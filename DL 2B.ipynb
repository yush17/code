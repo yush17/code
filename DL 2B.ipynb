{
  "nbformat": 4,
  "nbformat_minor": 0,
  "metadata": {
    "colab": {
      "provenance": []
    },
    "kernelspec": {
      "name": "python3",
      "display_name": "Python 3"
    },
    "language_info": {
      "name": "python"
    }
  },
  "cells": [
    {
      "cell_type": "code",
      "execution_count": null,
      "metadata": {
        "id": "1numGJV6sH2D"
      },
      "outputs": [],
      "source": [
        "from tensorflow.keras.datasets import imdb"
      ]
    },
    {
      "cell_type": "code",
      "source": [
        "(x_train, y_train), (x_test, y_test) = imdb.load_data(num_words=10000)"
      ],
      "metadata": {
        "colab": {
          "base_uri": "https://localhost:8080/"
        },
        "id": "B11xEo2nt3me",
        "outputId": "f9a8df3b-1135-4ffe-d20d-ae8fc64fd568"
      },
      "execution_count": null,
      "outputs": [
        {
          "output_type": "stream",
          "name": "stdout",
          "text": [
            "Downloading data from https://storage.googleapis.com/tensorflow/tf-keras-datasets/imdb.npz\n",
            "17464789/17464789 [==============================] - 0s 0us/step\n"
          ]
        }
      ]
    },
    {
      "cell_type": "code",
      "source": [
        "print(\"Train Shape :\",x_train.shape)\n",
        "print(\"Test Shape :\",x_test.shape)"
      ],
      "metadata": {
        "colab": {
          "base_uri": "https://localhost:8080/"
        },
        "id": "hR3sCaJcuDiz",
        "outputId": "1da1c1b2-7e9e-4596-94de-561ed566dec1"
      },
      "execution_count": null,
      "outputs": [
        {
          "output_type": "stream",
          "name": "stdout",
          "text": [
            "Train Shape : (25000,)\n",
            "Test Shape : (25000,)\n"
          ]
        }
      ]
    },
    {
      "cell_type": "code",
      "source": [
        "print(\"y_train shape :\",y_train.shape)\n",
        "print(\"y_test shape :\",y_test.shape)"
      ],
      "metadata": {
        "colab": {
          "base_uri": "https://localhost:8080/"
        },
        "id": "BbNAzBBWuKsm",
        "outputId": "e0d993f2-e0e4-4fab-cc8c-3515af0c6640"
      },
      "execution_count": null,
      "outputs": [
        {
          "output_type": "stream",
          "name": "stdout",
          "text": [
            "y_train shape : (25000,)\n",
            "y_test shape : (25000,)\n"
          ]
        }
      ]
    },
    {
      "cell_type": "code",
      "source": [
        " print(x_train[1])"
      ],
      "metadata": {
        "colab": {
          "base_uri": "https://localhost:8080/"
        },
        "id": "8dFla3eEuRSv",
        "outputId": "1ad8ab84-aa4f-4437-eeb4-a45ceb20f06e"
      },
      "execution_count": null,
      "outputs": [
        {
          "output_type": "stream",
          "name": "stdout",
          "text": [
            "[1, 194, 1153, 194, 8255, 78, 228, 5, 6, 1463, 4369, 5012, 134, 26, 4, 715, 8, 118, 1634, 14, 394, 20, 13, 119, 954, 189, 102, 5, 207, 110, 3103, 21, 14, 69, 188, 8, 30, 23, 7, 4, 249, 126, 93, 4, 114, 9, 2300, 1523, 5, 647, 4, 116, 9, 35, 8163, 4, 229, 9, 340, 1322, 4, 118, 9, 4, 130, 4901, 19, 4, 1002, 5, 89, 29, 952, 46, 37, 4, 455, 9, 45, 43, 38, 1543, 1905, 398, 4, 1649, 26, 6853, 5, 163, 11, 3215, 2, 4, 1153, 9, 194, 775, 7, 8255, 2, 349, 2637, 148, 605, 2, 8003, 15, 123, 125, 68, 2, 6853, 15, 349, 165, 4362, 98, 5, 4, 228, 9, 43, 2, 1157, 15, 299, 120, 5, 120, 174, 11, 220, 175, 136, 50, 9, 4373, 228, 8255, 5, 2, 656, 245, 2350, 5, 4, 9837, 131, 152, 491, 18, 2, 32, 7464, 1212, 14, 9, 6, 371, 78, 22, 625, 64, 1382, 9, 8, 168, 145, 23, 4, 1690, 15, 16, 4, 1355, 5, 28, 6, 52, 154, 462, 33, 89, 78, 285, 16, 145, 95]\n"
          ]
        }
      ]
    },
    {
      "cell_type": "code",
      "source": [
        "print(y_train[1])"
      ],
      "metadata": {
        "colab": {
          "base_uri": "https://localhost:8080/"
        },
        "id": "puVAt-s9uW0Y",
        "outputId": "bb4c5ab0-4676-471f-e41d-94412a465b33"
      },
      "execution_count": null,
      "outputs": [
        {
          "output_type": "stream",
          "name": "stdout",
          "text": [
            "0\n"
          ]
        }
      ]
    },
    {
      "cell_type": "code",
      "source": [
        "vocab=imdb.get_word_index()\n",
        "print(vocab['the'])"
      ],
      "metadata": {
        "colab": {
          "base_uri": "https://localhost:8080/"
        },
        "id": "_mE1QEGfuYgs",
        "outputId": "863dc2b3-b1df-413e-a605-2604b207db9e"
      },
      "execution_count": null,
      "outputs": [
        {
          "output_type": "stream",
          "name": "stdout",
          "text": [
            "Downloading data from https://storage.googleapis.com/tensorflow/tf-keras-datasets/imdb_word_index.json\n",
            "1641221/1641221 [==============================] - 0s 0us/step\n",
            "1\n"
          ]
        }
      ]
    },
    {
      "cell_type": "code",
      "source": [
        "class_names=['Negative', 'Positive']"
      ],
      "metadata": {
        "id": "ZHVXkhcQudmc"
      },
      "execution_count": null,
      "outputs": []
    },
    {
      "cell_type": "code",
      "source": [
        "reverse_index = dict([(value, key) for (key, value) in vocab.items()])"
      ],
      "metadata": {
        "id": "Xbh1tpBhuoEz"
      },
      "execution_count": null,
      "outputs": []
    },
    {
      "cell_type": "code",
      "source": [
        "def decode(review):\n",
        "  text=\"\"\n",
        "  for i in review:\n",
        "    text=text+reverse_index[i]\n",
        "    text=text+\" \"\n",
        "  return text"
      ],
      "metadata": {
        "id": "EKbA6Us1us0r"
      },
      "execution_count": null,
      "outputs": []
    },
    {
      "cell_type": "code",
      "source": [
        "decode(x_train[1])"
      ],
      "metadata": {
        "colab": {
          "base_uri": "https://localhost:8080/",
          "height": 122
        },
        "id": "QFGSwovfu7qO",
        "outputId": "e6a862d9-1e87-4f7c-9b88-98c8c3e06fd4"
      },
      "execution_count": null,
      "outputs": [
        {
          "output_type": "execute_result",
          "data": {
            "text/plain": [
              "\"the thought solid thought senator do making to is spot nomination assumed while he of jack in where picked as getting on was did hands fact characters to always life thrillers not as me can't in at are br of sure your way of little it strongly random to view of love it so principles of guy it used producer of where it of here icon film of outside to don't all unique some like of direction it if out her imagination below keep of queen he diverse to makes this stretch and of solid it thought begins br senator and budget worthwhile though ok and awaiting for ever better were and diverse for budget look kicked any to of making it out and follows for effects show to show cast this family us scenes more it severe making senator to and finds tv tend to of emerged these thing wants but and an beckinsale cult as it is video do you david see scenery it in few those are of ship for with of wild to one is very work dark they don't do dvd with those them \""
            ],
            "application/vnd.google.colaboratory.intrinsic+json": {
              "type": "string"
            }
          },
          "metadata": {},
          "execution_count": 12
        }
      ]
    },
    {
      "cell_type": "code",
      "source": [
        "def showlen():\n",
        "  print(\"Length of first training sample: \",len(x_train[0]))\n",
        "  print(\"Length of second training sample: \",len(x_train[1]))\n",
        "  print(\"Length of first test sample: \",len(x_test[0]))\n",
        "  print(\"Length of second test sample: \",len(x_test[1]))\n",
        "showlen()"
      ],
      "metadata": {
        "colab": {
          "base_uri": "https://localhost:8080/"
        },
        "id": "GoM6pjMSu-JB",
        "outputId": "49dbeab5-bbb4-4fd3-d6d1-c41073287522"
      },
      "execution_count": null,
      "outputs": [
        {
          "output_type": "stream",
          "name": "stdout",
          "text": [
            "Length of first training sample:  218\n",
            "Length of second training sample:  189\n",
            "Length of first test sample:  68\n",
            "Length of second test sample:  260\n"
          ]
        }
      ]
    },
    {
      "cell_type": "code",
      "source": [
        "from tensorflow.keras.preprocessing.sequence import pad_sequences"
      ],
      "metadata": {
        "id": "N7NJY-xhvjz9"
      },
      "execution_count": null,
      "outputs": []
    },
    {
      "cell_type": "code",
      "source": [
        "x_train=pad_sequences(x_train, value=vocab['the'], padding='post', maxlen=256)\n",
        "x_test=pad_sequences(x_test, value=vocab['the'], padding='post', maxlen=256)\n",
        "showlen()"
      ],
      "metadata": {
        "colab": {
          "base_uri": "https://localhost:8080/"
        },
        "id": "HTsz9AaKvmnI",
        "outputId": "f175734d-77fd-4e90-8c17-7ce5e0f784c6"
      },
      "execution_count": null,
      "outputs": [
        {
          "output_type": "stream",
          "name": "stdout",
          "text": [
            "Length of first training sample:  256\n",
            "Length of second training sample:  256\n",
            "Length of first test sample:  256\n",
            "Length of second test sample:  256\n"
          ]
        }
      ]
    },
    {
      "cell_type": "code",
      "source": [
        "decode(x_train[1])"
      ],
      "metadata": {
        "colab": {
          "base_uri": "https://localhost:8080/",
          "height": 123
        },
        "id": "xsMqoiuwv3C-",
        "outputId": "ee92ce30-1021-4353-f175-28bb0da47bc3"
      },
      "execution_count": null,
      "outputs": [
        {
          "output_type": "execute_result",
          "data": {
            "text/plain": [
              "\"the thought solid thought senator do making to is spot nomination assumed while he of jack in where picked as getting on was did hands fact characters to always life thrillers not as me can't in at are br of sure your way of little it strongly random to view of love it so principles of guy it used producer of where it of here icon film of outside to don't all unique some like of direction it if out her imagination below keep of queen he diverse to makes this stretch and of solid it thought begins br senator and budget worthwhile though ok and awaiting for ever better were and diverse for budget look kicked any to of making it out and follows for effects show to show cast this family us scenes more it severe making senator to and finds tv tend to of emerged these thing wants but and an beckinsale cult as it is video do you david see scenery it in few those are of ship for with of wild to one is very work dark they don't do dvd with those them the the the the the the the the the the the the the the the the the the the the the the the the the the the the the the the the the the the the the the the the the the the the the the the the the the the the the the the the the the the the the the the the the the the \""
            ],
            "application/vnd.google.colaboratory.intrinsic+json": {
              "type": "string"
            }
          },
          "metadata": {},
          "execution_count": 16
        }
      ]
    },
    {
      "cell_type": "code",
      "source": [
        "from tensorflow.keras.models import Sequential\n",
        "from tensorflow.keras.layers import Dense, Embedding, GlobalAveragePooling1D"
      ],
      "metadata": {
        "id": "mzApBb0Hv5LJ"
      },
      "execution_count": null,
      "outputs": []
    },
    {
      "cell_type": "code",
      "source": [
        "model=Sequential()\n",
        "model.add(Embedding(10000,16))\n",
        "model.add(GlobalAveragePooling1D())\n",
        "model.add(Dense(16,activation='relu'))\n",
        "model.add(Dense(1,activation='sigmoid'))\n",
        "model.compile(optimizer='adam', loss='binary_crossentropy',metrics=['accuracy'])\n",
        "model.summary()"
      ],
      "metadata": {
        "colab": {
          "base_uri": "https://localhost:8080/"
        },
        "id": "sCRADH-gv-5T",
        "outputId": "0a808a95-4095-40b9-fa90-8f6ffa8a4b8f"
      },
      "execution_count": null,
      "outputs": [
        {
          "output_type": "stream",
          "name": "stdout",
          "text": [
            "Model: \"sequential\"\n",
            "_________________________________________________________________\n",
            " Layer (type)                Output Shape              Param #   \n",
            "=================================================================\n",
            " embedding (Embedding)       (None, None, 16)          160000    \n",
            "                                                                 \n",
            " global_average_pooling1d (  (None, 16)                0         \n",
            " GlobalAveragePooling1D)                                         \n",
            "                                                                 \n",
            " dense (Dense)               (None, 16)                272       \n",
            "                                                                 \n",
            " dense_1 (Dense)             (None, 1)                 17        \n",
            "                                                                 \n",
            "=================================================================\n",
            "Total params: 160289 (626.13 KB)\n",
            "Trainable params: 160289 (626.13 KB)\n",
            "Non-trainable params: 0 (0.00 Byte)\n",
            "_________________________________________________________________\n"
          ]
        }
      ]
    },
    {
      "cell_type": "code",
      "source": [
        "model.fit(x_train, y_train, epochs=4, batch_size=128, verbose=1,validation_data=(x_test, y_test))"
      ],
      "metadata": {
        "colab": {
          "base_uri": "https://localhost:8080/"
        },
        "id": "iVVWKCzmwQ9T",
        "outputId": "3c3d7709-be61-4c6f-b287-21eb8acc9d89"
      },
      "execution_count": null,
      "outputs": [
        {
          "output_type": "stream",
          "name": "stdout",
          "text": [
            "Epoch 1/4\n",
            "196/196 [==============================] - 4s 14ms/step - loss: 0.6711 - accuracy: 0.6962 - val_loss: 0.6176 - val_accuracy: 0.7640\n",
            "Epoch 2/4\n",
            "196/196 [==============================] - 3s 13ms/step - loss: 0.5022 - accuracy: 0.8298 - val_loss: 0.4188 - val_accuracy: 0.8412\n",
            "Epoch 3/4\n",
            "196/196 [==============================] - 3s 15ms/step - loss: 0.3438 - accuracy: 0.8760 - val_loss: 0.3331 - val_accuracy: 0.8678\n",
            "Epoch 4/4\n",
            "196/196 [==============================] - 2s 12ms/step - loss: 0.2764 - accuracy: 0.8970 - val_loss: 0.3032 - val_accuracy: 0.8764\n"
          ]
        },
        {
          "output_type": "execute_result",
          "data": {
            "text/plain": [
              "<keras.src.callbacks.History at 0x7fb1a1653100>"
            ]
          },
          "metadata": {},
          "execution_count": 19
        }
      ]
    },
    {
      "cell_type": "code",
      "source": [
        "x_test[10]"
      ],
      "metadata": {
        "colab": {
          "base_uri": "https://localhost:8080/"
        },
        "id": "ySK4TO1XwTz0",
        "outputId": "4cd3e132-8a3c-4280-d78a-2c662f792eef"
      },
      "execution_count": null,
      "outputs": [
        {
          "output_type": "execute_result",
          "data": {
            "text/plain": [
              "array([   1, 1581,   34, 7908, 5082,   23,    6, 1374, 1120,    7,  107,\n",
              "        349,    2, 1496,   11, 5116,   18,  397, 3767,    7,    4,  107,\n",
              "         84, 6763,   56,   68,  456, 1402,    2,   39,    4, 1374,    9,\n",
              "         35,  204,    5,   55, 4412,  212,  193,   23,    4,  326,   45,\n",
              "          6, 1109,    8, 1738,    2,   15,   29,  199, 1040,    5, 2684,\n",
              "         11,   14, 1403,  212, 1528,   10,   10, 2160,    2,    9,    4,\n",
              "        452,   37,    2,    4,  598,  425,    5,   45, 4394,  138,   59,\n",
              "        214,  467,    4, 2391,    7, 1738,    2,   19,   41, 2455, 3028,\n",
              "          5, 6866, 1489,   90,  180,   18,  101, 1403,    2, 1514, 5257,\n",
              "          9,    4,  564,  871,  322,   47, 2586,   27,  274,  326,    5,\n",
              "          9,  150,  112,    2,   17,    6,   87,  162, 2133,   60, 3256,\n",
              "         23,    4, 7999,  123,    8,   11,    2,   29,  144,   30, 2961,\n",
              "       1346,    2,  214,    4,  326,    7,    2, 1496,    8, 3767,  533,\n",
              "          7,  134,    2, 6229,   10,   10,    7,  265,  285,    5,  233,\n",
              "         70,  593,   54,  564, 4124,    2, 1625,   27, 1546,    2,   19,\n",
              "          2, 1008,   18,   89,    4,  114, 3209,    5,   45, 1139,   32,\n",
              "          4,   96,  143, 3760,  958,    7,  919,    5, 7611,  367,    4,\n",
              "         96,   17,   73,   17,    6,   52,  855,    7,  836,   10,   10,\n",
              "         18,    2,    7,  328,  212,   14,   31,    9, 5523,    8,  591,\n",
              "          1,    1,    1,    1,    1,    1,    1,    1,    1,    1,    1,\n",
              "          1,    1,    1,    1,    1,    1,    1,    1,    1,    1,    1,\n",
              "          1,    1,    1,    1,    1,    1,    1,    1,    1,    1,    1,\n",
              "          1,    1,    1,    1,    1,    1,    1,    1,    1,    1,    1,\n",
              "          1,    1,    1], dtype=int32)"
            ]
          },
          "metadata": {},
          "execution_count": 20
        }
      ]
    },
    {
      "cell_type": "code",
      "source": [
        "y_test[10]"
      ],
      "metadata": {
        "colab": {
          "base_uri": "https://localhost:8080/"
        },
        "id": "MokTdIOawaR6",
        "outputId": "8845843b-1de4-4144-fd0e-8b5c5b039690"
      },
      "execution_count": null,
      "outputs": [
        {
          "output_type": "execute_result",
          "data": {
            "text/plain": [
              "1"
            ]
          },
          "metadata": {},
          "execution_count": 21
        }
      ]
    },
    {
      "cell_type": "code",
      "source": [
        "import numpy as np\n",
        "predicted_value=model.predict(np.expand_dims(x_test[10], 0))\n",
        "print(predicted_value)\n",
        "if predicted_value>0.5:\n",
        "  final_value=1\n",
        "else:\n",
        "  final_value=0\n",
        "print(final_value)\n",
        "print(class_names[final_value])"
      ],
      "metadata": {
        "colab": {
          "base_uri": "https://localhost:8080/"
        },
        "id": "x0TVoNHYwflw",
        "outputId": "4d56132a-8ec5-43ae-a848-5c45183d47d3"
      },
      "execution_count": null,
      "outputs": [
        {
          "output_type": "stream",
          "name": "stdout",
          "text": [
            "1/1 [==============================] - 0s 98ms/step\n",
            "[[0.7984797]]\n",
            "1\n",
            "Positive\n"
          ]
        }
      ]
    },
    {
      "cell_type": "code",
      "source": [
        "loss, accuracy = model.evaluate(x_test, y_test)\n",
        "print(\"Loss :\",loss)\n",
        "print(\"Accuracy (Test Data) :\",accuracy*100)"
      ],
      "metadata": {
        "id": "bo-nYtGAwofj",
        "outputId": "4e65e21d-3257-4b78-9c47-a54ec0f30534",
        "colab": {
          "base_uri": "https://localhost:8080/"
        }
      },
      "execution_count": null,
      "outputs": [
        {
          "output_type": "stream",
          "name": "stdout",
          "text": [
            "782/782 [==============================] - 2s 2ms/step - loss: 0.3032 - accuracy: 0.8764\n",
            "Loss : 0.30322694778442383\n",
            "Accuracy (Test Data) : 87.64399886131287\n"
          ]
        }
      ]
    }
  ]
}