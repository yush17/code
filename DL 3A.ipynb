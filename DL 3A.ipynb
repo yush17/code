{
  "nbformat": 4,
  "nbformat_minor": 0,
  "metadata": {
    "colab": {
      "provenance": []
    },
    "kernelspec": {
      "name": "python3",
      "display_name": "Python 3"
    },
    "language_info": {
      "name": "python"
    }
  },
  "cells": [
    {
      "cell_type": "code",
      "source": [
        "from tensorflow.keras.preprocessing.image import ImageDataGenerator, load_img, img_to_array"
      ],
      "metadata": {
        "id": "uSWuAKTRi211"
      },
      "execution_count": 2,
      "outputs": []
    },
    {
      "cell_type": "code",
      "execution_count": 3,
      "metadata": {
        "id": "TQgi6C_3aNjX"
      },
      "outputs": [],
      "source": [
        "import zipfile\n",
        "with zipfile.ZipFile('New Plant Diseases Dataset(Augmented).zip', 'r') as zip_ref:\n",
        "    zip_ref.extractall('New Plant Diseases Dataset(Augmented)')"
      ]
    },
    {
      "cell_type": "code",
      "source": [
        "train_dir = r'/content/New Plant Diseases Dataset(Augmented)/New Plant Diseases Dataset(Augmented)/train'\n",
        "val_dir = r'/content/New Plant Diseases Dataset(Augmented)/New Plant Diseases Dataset(Augmented)/valid'"
      ],
      "metadata": {
        "id": "YBgz6tEtbYVE"
      },
      "execution_count": 4,
      "outputs": []
    },
    {
      "cell_type": "code",
      "source": [
        "img_size = 224\n",
        "batch_size = 32"
      ],
      "metadata": {
        "id": "_NnK_aLwiXD3"
      },
      "execution_count": 5,
      "outputs": []
    },
    {
      "cell_type": "code",
      "source": [
        "# Preprocessing\n",
        "train_datagen = ImageDataGenerator(rescale=1./255)\n",
        "train_generator = train_datagen.flow_from_directory(train_dir,target_size=(img_size,img_size),batch_size=batch_size,class_mode='categorical')"
      ],
      "metadata": {
        "colab": {
          "base_uri": "https://localhost:8080/"
        },
        "id": "ImiYBKgViqqw",
        "outputId": "b8c25e58-2c6e-4656-e4d0-b9471e75e4f8"
      },
      "execution_count": 6,
      "outputs": [
        {
          "output_type": "stream",
          "name": "stdout",
          "text": [
            "Found 600 images belonging to 3 classes.\n"
          ]
        }
      ]
    },
    {
      "cell_type": "code",
      "source": [
        "val_datagen = ImageDataGenerator(rescale=1./255)\n",
        "val_generator = val_datagen.flow_from_directory(val_dir,target_size=(img_size,img_size),\n",
        "batch_size=batch_size,class_mode='categorical')"
      ],
      "metadata": {
        "colab": {
          "base_uri": "https://localhost:8080/"
        },
        "id": "cWb9ZyI6j4dD",
        "outputId": "02cafa8f-cd85-41aa-eade-8729c24c6871"
      },
      "execution_count": 7,
      "outputs": [
        {
          "output_type": "stream",
          "name": "stdout",
          "text": [
            "Found 600 images belonging to 3 classes.\n"
          ]
        }
      ]
    },
    {
      "cell_type": "code",
      "source": [
        " list(train_generator.class_indices)"
      ],
      "metadata": {
        "colab": {
          "base_uri": "https://localhost:8080/"
        },
        "id": "zrv98Hpbj6kh",
        "outputId": "8b2f1b54-f263-4e87-aef9-7b9633da69b5"
      },
      "execution_count": 8,
      "outputs": [
        {
          "output_type": "execute_result",
          "data": {
            "text/plain": [
              "['Tomato___Bacterial_spot', 'Tomato___Early_blight', 'Tomato___healthy']"
            ]
          },
          "metadata": {},
          "execution_count": 8
        }
      ]
    },
    {
      "cell_type": "code",
      "source": [
        "#building our model\n",
        "from tensorflow.keras.models import Sequential\n",
        "from tensorflow.keras.layers import Conv2D, MaxPooling2D, Flatten, Dense,Dropout, BatchNormalization"
      ],
      "metadata": {
        "id": "lMMc_qnoj8fR"
      },
      "execution_count": 9,
      "outputs": []
    },
    {
      "cell_type": "code",
      "source": [
        "model = Sequential()\n",
        "model.add((Conv2D(32, (3,3), activation='relu', input_shape=(img_size,img_size, 3))))\n",
        "model.add(BatchNormalization())\n",
        "model.add((MaxPooling2D(2,2)))\n",
        "model.add((Conv2D(64, (3,3), activation='relu')))\n",
        "model.add(BatchNormalization())\n",
        "model.add((MaxPooling2D(2,2)))\n",
        "model.add((Conv2D(64, (3,3), activation='relu')))\n",
        "model.add(BatchNormalization())\n",
        "model.add((MaxPooling2D(2,2)))\n",
        "model.add((Conv2D(128, (3,3), activation='relu')))\n",
        "model.add(BatchNormalization())\n",
        "model.add((MaxPooling2D(2,2)))\n",
        "model.add((Flatten()))\n",
        "model.add((Dense(128, activation='relu')))\n",
        "model.add((Dropout(0.2)))\n",
        "model.add((Dense(64, activation='relu')))\n",
        "model.add((Dense(train_generator.num_classes, activation='softmax')))\n",
        "model.summary()"
      ],
      "metadata": {
        "colab": {
          "base_uri": "https://localhost:8080/"
        },
        "id": "cwC8YDwCkE_k",
        "outputId": "27940bf7-ac34-4a0e-a322-63d60b4c8b52"
      },
      "execution_count": 10,
      "outputs": [
        {
          "output_type": "stream",
          "name": "stdout",
          "text": [
            "Model: \"sequential\"\n",
            "_________________________________________________________________\n",
            " Layer (type)                Output Shape              Param #   \n",
            "=================================================================\n",
            " conv2d (Conv2D)             (None, 222, 222, 32)      896       \n",
            "                                                                 \n",
            " batch_normalization (Batch  (None, 222, 222, 32)      128       \n",
            " Normalization)                                                  \n",
            "                                                                 \n",
            " max_pooling2d (MaxPooling2  (None, 111, 111, 32)      0         \n",
            " D)                                                              \n",
            "                                                                 \n",
            " conv2d_1 (Conv2D)           (None, 109, 109, 64)      18496     \n",
            "                                                                 \n",
            " batch_normalization_1 (Bat  (None, 109, 109, 64)      256       \n",
            " chNormalization)                                                \n",
            "                                                                 \n",
            " max_pooling2d_1 (MaxPoolin  (None, 54, 54, 64)        0         \n",
            " g2D)                                                            \n",
            "                                                                 \n",
            " conv2d_2 (Conv2D)           (None, 52, 52, 64)        36928     \n",
            "                                                                 \n",
            " batch_normalization_2 (Bat  (None, 52, 52, 64)        256       \n",
            " chNormalization)                                                \n",
            "                                                                 \n",
            " max_pooling2d_2 (MaxPoolin  (None, 26, 26, 64)        0         \n",
            " g2D)                                                            \n",
            "                                                                 \n",
            " conv2d_3 (Conv2D)           (None, 24, 24, 128)       73856     \n",
            "                                                                 \n",
            " batch_normalization_3 (Bat  (None, 24, 24, 128)       512       \n",
            " chNormalization)                                                \n",
            "                                                                 \n",
            " max_pooling2d_3 (MaxPoolin  (None, 12, 12, 128)       0         \n",
            " g2D)                                                            \n",
            "                                                                 \n",
            " flatten (Flatten)           (None, 18432)             0         \n",
            "                                                                 \n",
            " dense (Dense)               (None, 128)               2359424   \n",
            "                                                                 \n",
            " dropout (Dropout)           (None, 128)               0         \n",
            "                                                                 \n",
            " dense_1 (Dense)             (None, 64)                8256      \n",
            "                                                                 \n",
            " dense_2 (Dense)             (None, 3)                 195       \n",
            "                                                                 \n",
            "=================================================================\n",
            "Total params: 2499203 (9.53 MB)\n",
            "Trainable params: 2498627 (9.53 MB)\n",
            "Non-trainable params: 576 (2.25 KB)\n",
            "_________________________________________________________________\n"
          ]
        }
      ]
    },
    {
      "cell_type": "code",
      "source": [
        "model.compile(optimizer='adam', loss='categorical_crossentropy',metrics=['accuracy'])"
      ],
      "metadata": {
        "id": "wYnBY4ljkP-i"
      },
      "execution_count": 11,
      "outputs": []
    },
    {
      "cell_type": "code",
      "source": [
        "#Training Our Model\n",
        "model.fit(train_generator, epochs=50, validation_data=val_generator)"
      ],
      "metadata": {
        "colab": {
          "base_uri": "https://localhost:8080/"
        },
        "id": "ew56q-y4kTvn",
        "outputId": "4c2c5db7-a02b-4c5c-9913-43f19a83bbcc"
      },
      "execution_count": null,
      "outputs": [
        {
          "output_type": "stream",
          "name": "stdout",
          "text": [
            "Epoch 1/50\n",
            "19/19 [==============================] - ETA: 0s - loss: 0.0896 - accuracy: 0.9667"
          ]
        }
      ]
    },
    {
      "cell_type": "code",
      "source": [
        "#Evaluating our Model\n",
        "loss, accuracy = model.evaluate(val_generator)\n",
        "print(\"Loss :\",loss)\n",
        "print(\"Accuracy (Test Data) :\",accuracy*100)"
      ],
      "metadata": {
        "colab": {
          "base_uri": "https://localhost:8080/"
        },
        "id": "kjLgsnh0u6MF",
        "outputId": "42313aad-6cdc-4bb9-9697-d5d0d57d185f"
      },
      "execution_count": 15,
      "outputs": [
        {
          "output_type": "stream",
          "name": "stdout",
          "text": [
            "19/19 [==============================] - 22s 1s/step - loss: 7.0176 - accuracy: 0.4483\n",
            "Loss : 7.017551898956299\n",
            "Accuracy (Test Data) : 44.83333230018616\n"
          ]
        }
      ]
    },
    {
      "cell_type": "code",
      "source": [
        "#Testing our Model\n",
        "import numpy as np\n",
        "img_path =r'/content/New Plant Diseases Dataset(Augmented)/New Plant Diseases Dataset(Augmented)/valid/Tomato___Early_blight/5b86ab6a-3823-4886-85fd-02190898563c___RS_Erly.B 8452.JPG'\n",
        "img = load_img(img_path, target_size=(224, 224))\n",
        "img_array = img_to_array(img)\n",
        "img_array = np.expand_dims(img_array, axis=0)\n",
        "img_array /= 255"
      ],
      "metadata": {
        "id": "FWGNO2iRvyVo"
      },
      "execution_count": 18,
      "outputs": []
    },
    {
      "cell_type": "code",
      "source": [
        "prediction = model.predict(img_array)\n",
        "class_names=['Tomato___Bacterial_spot', 'Tomato___Early_blight','Tomato___healthy']"
      ],
      "metadata": {
        "colab": {
          "base_uri": "https://localhost:8080/"
        },
        "id": "cYp6zxxdwyRW",
        "outputId": "36bf2bd8-20b7-4db9-9a48-e27d4730e0ab"
      },
      "execution_count": 19,
      "outputs": [
        {
          "output_type": "stream",
          "name": "stdout",
          "text": [
            "1/1 [==============================] - 0s 216ms/step\n"
          ]
        }
      ]
    },
    {
      "cell_type": "code",
      "source": [
        "predicted_class = np.argmax(prediction)\n",
        "print(prediction)\n",
        "print(predicted_class)\n",
        "print('Predicted class:', class_names[predicted_class])"
      ],
      "metadata": {
        "colab": {
          "base_uri": "https://localhost:8080/"
        },
        "id": "or-GFFemw3tu",
        "outputId": "7462a0fe-98ef-496f-8aef-010d6e88fe13"
      },
      "execution_count": 20,
      "outputs": [
        {
          "output_type": "stream",
          "name": "stdout",
          "text": [
            "[[1.0000000e+00 4.3127044e-11 1.4942099e-12]]\n",
            "0\n",
            "Predicted class: Tomato___Bacterial_spot\n"
          ]
        }
      ]
    }
  ]
}