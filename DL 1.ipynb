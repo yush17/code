{
  "nbformat": 4,
  "nbformat_minor": 0,
  "metadata": {
    "colab": {
      "provenance": []
    },
    "kernelspec": {
      "name": "python3",
      "display_name": "Python 3"
    },
    "language_info": {
      "name": "python"
    }
  },
  "cells": [
    {
      "cell_type": "code",
      "execution_count": null,
      "metadata": {
        "id": "hbjFCrHQX0Wn"
      },
      "outputs": [],
      "source": [
        "import tensorflow as tf\n",
        "from tensorflow.keras.datasets import boston_housing\n",
        "from sklearn import preprocessing\n",
        "import plotly.graph_objects as go\n",
        "import matplotlib.pyplot as plt"
      ]
    },
    {
      "cell_type": "code",
      "source": [
        "(train_x,train_y),(test_x,test_y)=boston_housing.load_data()"
      ],
      "metadata": {
        "colab": {
          "base_uri": "https://localhost:8080/"
        },
        "id": "mxeAhVcRX2lD",
        "outputId": "6dda8938-13da-4cfe-cc4b-57f1ec2b779c"
      },
      "execution_count": null,
      "outputs": [
        {
          "output_type": "stream",
          "name": "stdout",
          "text": [
            "Downloading data from https://storage.googleapis.com/tensorflow/tf-keras-datasets/boston_housing.npz\n",
            "57026/57026 [==============================] - 0s 0us/step\n"
          ]
        }
      ]
    },
    {
      "cell_type": "code",
      "source": [
        "print(\"Train Shape :\",train_x.shape)\n",
        "print(\"Test Shape :\",test_x.shape)\n",
        "print(\"Training Sample :\",train_x[0])\n",
        "print(\"Training Target Sample :\",train_y[0])\n"
      ],
      "metadata": {
        "colab": {
          "base_uri": "https://localhost:8080/"
        },
        "id": "1qWBdbH2YcPu",
        "outputId": "9589a552-e17e-41bd-bc54-82dbb2ec6c21"
      },
      "execution_count": null,
      "outputs": [
        {
          "output_type": "stream",
          "name": "stdout",
          "text": [
            "Train Shape : (404, 13)\n",
            "Test Shape : (102, 13)\n",
            "Training Sample : [  1.23247   0.        8.14      0.        0.538     6.142    91.7\n",
            "   3.9769    4.      307.       21.      396.9      18.72   ]\n",
            "Training Target Sample : 15.2\n"
          ]
        }
      ]
    },
    {
      "cell_type": "code",
      "source": [
        "mean=train_x.mean(axis=0)\n",
        "std=train_x.std(axis=0)"
      ],
      "metadata": {
        "id": "a_pt2rZkYgtX"
      },
      "execution_count": null,
      "outputs": []
    },
    {
      "cell_type": "code",
      "source": [
        "train_x=(train_x-mean)/std\n",
        "test_x=(test_x-mean)/std"
      ],
      "metadata": {
        "id": "iXtfnzWWYm23"
      },
      "execution_count": null,
      "outputs": []
    },
    {
      "cell_type": "code",
      "source": [
        "train_x[0]"
      ],
      "metadata": {
        "colab": {
          "base_uri": "https://localhost:8080/"
        },
        "id": "7ZQLge8FYr-u",
        "outputId": "d3fd29ff-4bdb-479b-d157-446873104bac"
      },
      "execution_count": null,
      "outputs": [
        {
          "output_type": "execute_result",
          "data": {
            "text/plain": [
              "array([-0.27224633, -0.48361547, -0.43576161, -0.25683275, -0.1652266 ,\n",
              "       -0.1764426 ,  0.81306188,  0.1166983 , -0.62624905, -0.59517003,\n",
              "        1.14850044,  0.44807713,  0.8252202 ])"
            ]
          },
          "metadata": {},
          "execution_count": 7
        }
      ]
    },
    {
      "cell_type": "code",
      "source": [
        "from tensorflow.keras.models import Sequential\n",
        "from tensorflow.keras.layers import Dense"
      ],
      "metadata": {
        "id": "4TEBB1gTYwYx"
      },
      "execution_count": null,
      "outputs": []
    },
    {
      "cell_type": "code",
      "source": [
        "def HousePricePredictionModel():\n",
        "  model=Sequential()\n",
        "  model.add(Dense(128,activation='relu',input_shape=(train_x[0].shape),name='dense_1')) #128 Neurons\n",
        "  model.add(Dense(64,activation='relu',name='dense_2')) #64 Neurons\n",
        "  model.add(Dense(1,activation='linear',name='dense_output')) #1 Neuron\n",
        "  model.compile(optimizer='adam', loss='mse', metrics=['mae'])\n",
        "  model.summary()\n",
        "  return model"
      ],
      "metadata": {
        "id": "7cy5WB7ZZG9j"
      },
      "execution_count": null,
      "outputs": []
    },
    {
      "cell_type": "code",
      "source": [
        "model=HousePricePredictionModel()\n",
        "history=model.fit(x=train_x,y=train_y,epochs=100,batch_size=1,verbose=1,validation_data=(test_x,test_y))"
      ],
      "metadata": {
        "colab": {
          "base_uri": "https://localhost:8080/"
        },
        "id": "frV_tAu-ZJLw",
        "outputId": "902ccbbb-7031-442d-9cfc-33e2e0326d1b"
      },
      "execution_count": null,
      "outputs": [
        {
          "output_type": "stream",
          "name": "stdout",
          "text": [
            "Model: \"sequential\"\n",
            "_________________________________________________________________\n",
            " Layer (type)                Output Shape              Param #   \n",
            "=================================================================\n",
            " dense_1 (Dense)             (None, 128)               1792      \n",
            "                                                                 \n",
            " dense_2 (Dense)             (None, 64)                8256      \n",
            "                                                                 \n",
            " dense_output (Dense)        (None, 1)                 65        \n",
            "                                                                 \n",
            "=================================================================\n",
            "Total params: 10113 (39.50 KB)\n",
            "Trainable params: 10113 (39.50 KB)\n",
            "Non-trainable params: 0 (0.00 Byte)\n",
            "_________________________________________________________________\n",
            "Epoch 1/100\n",
            "404/404 [==============================] - 2s 2ms/step - loss: 105.1573 - mae: 6.8544 - val_loss: 26.4772 - val_mae: 3.8849\n",
            "Epoch 2/100\n",
            "404/404 [==============================] - 1s 2ms/step - loss: 18.3881 - mae: 2.8920 - val_loss: 19.2604 - val_mae: 3.1217\n",
            "Epoch 3/100\n",
            "404/404 [==============================] - 1s 2ms/step - loss: 13.4310 - mae: 2.5604 - val_loss: 24.2789 - val_mae: 3.4730\n",
            "Epoch 4/100\n",
            "404/404 [==============================] - 1s 2ms/step - loss: 12.8564 - mae: 2.6224 - val_loss: 20.7704 - val_mae: 3.0387\n",
            "Epoch 5/100\n",
            "404/404 [==============================] - 1s 2ms/step - loss: 11.6064 - mae: 2.4140 - val_loss: 29.3337 - val_mae: 3.4136\n",
            "Epoch 6/100\n",
            "404/404 [==============================] - 1s 2ms/step - loss: 10.6591 - mae: 2.3145 - val_loss: 22.0202 - val_mae: 3.0515\n",
            "Epoch 7/100\n",
            "404/404 [==============================] - 1s 2ms/step - loss: 10.1933 - mae: 2.2966 - val_loss: 24.7855 - val_mae: 3.2647\n",
            "Epoch 8/100\n",
            "404/404 [==============================] - 1s 3ms/step - loss: 10.4488 - mae: 2.3890 - val_loss: 25.4460 - val_mae: 3.3251\n",
            "Epoch 9/100\n",
            "404/404 [==============================] - 1s 2ms/step - loss: 10.6721 - mae: 2.4288 - val_loss: 18.5491 - val_mae: 2.8343\n",
            "Epoch 10/100\n",
            "404/404 [==============================] - 1s 2ms/step - loss: 9.7626 - mae: 2.2443 - val_loss: 18.2872 - val_mae: 2.6382\n",
            "Epoch 11/100\n",
            "404/404 [==============================] - 1s 2ms/step - loss: 9.1896 - mae: 2.1740 - val_loss: 18.5864 - val_mae: 2.8444\n",
            "Epoch 12/100\n",
            "404/404 [==============================] - 1s 2ms/step - loss: 8.8790 - mae: 2.2036 - val_loss: 28.1095 - val_mae: 3.1375\n",
            "Epoch 13/100\n",
            "404/404 [==============================] - 1s 2ms/step - loss: 9.3221 - mae: 2.1735 - val_loss: 22.1057 - val_mae: 3.0095\n",
            "Epoch 14/100\n",
            "404/404 [==============================] - 1s 2ms/step - loss: 8.2503 - mae: 2.0313 - val_loss: 24.7198 - val_mae: 3.4032\n",
            "Epoch 15/100\n",
            "404/404 [==============================] - 1s 2ms/step - loss: 8.4433 - mae: 2.1097 - val_loss: 15.9679 - val_mae: 2.5888\n",
            "Epoch 16/100\n",
            "404/404 [==============================] - 1s 2ms/step - loss: 7.6300 - mae: 1.9993 - val_loss: 25.3262 - val_mae: 3.2867\n",
            "Epoch 17/100\n",
            "404/404 [==============================] - 1s 2ms/step - loss: 7.7940 - mae: 2.0479 - val_loss: 21.6699 - val_mae: 2.8441\n",
            "Epoch 18/100\n",
            "404/404 [==============================] - 1s 2ms/step - loss: 8.0377 - mae: 2.1155 - val_loss: 17.5582 - val_mae: 2.7240\n",
            "Epoch 19/100\n",
            "404/404 [==============================] - 1s 2ms/step - loss: 7.6533 - mae: 1.9698 - val_loss: 22.1726 - val_mae: 2.8663\n",
            "Epoch 20/100\n",
            "404/404 [==============================] - 1s 2ms/step - loss: 7.2967 - mae: 2.0140 - val_loss: 17.1870 - val_mae: 2.5850\n",
            "Epoch 21/100\n",
            "404/404 [==============================] - 1s 2ms/step - loss: 7.2439 - mae: 1.9163 - val_loss: 23.1554 - val_mae: 3.4150\n",
            "Epoch 22/100\n",
            "404/404 [==============================] - 1s 2ms/step - loss: 7.4597 - mae: 1.9605 - val_loss: 16.7647 - val_mae: 2.6188\n",
            "Epoch 23/100\n",
            "404/404 [==============================] - 1s 3ms/step - loss: 6.9768 - mae: 1.9094 - val_loss: 16.2485 - val_mae: 2.5095\n",
            "Epoch 24/100\n",
            "404/404 [==============================] - 1s 3ms/step - loss: 6.7483 - mae: 1.9080 - val_loss: 15.7093 - val_mae: 2.4118\n",
            "Epoch 25/100\n",
            "404/404 [==============================] - 1s 2ms/step - loss: 6.5852 - mae: 1.9051 - val_loss: 18.5611 - val_mae: 2.8629\n",
            "Epoch 26/100\n",
            "404/404 [==============================] - 1s 2ms/step - loss: 6.3442 - mae: 1.8239 - val_loss: 26.4514 - val_mae: 3.6140\n",
            "Epoch 27/100\n",
            "404/404 [==============================] - 1s 2ms/step - loss: 6.2976 - mae: 1.8907 - val_loss: 15.0086 - val_mae: 2.5578\n",
            "Epoch 28/100\n",
            "404/404 [==============================] - 1s 2ms/step - loss: 6.9503 - mae: 1.8301 - val_loss: 13.2839 - val_mae: 2.4152\n",
            "Epoch 29/100\n",
            "404/404 [==============================] - 1s 2ms/step - loss: 6.0646 - mae: 1.7846 - val_loss: 15.3856 - val_mae: 2.6119\n",
            "Epoch 30/100\n",
            "404/404 [==============================] - 1s 2ms/step - loss: 5.7989 - mae: 1.7069 - val_loss: 18.0060 - val_mae: 2.8778\n",
            "Epoch 31/100\n",
            "404/404 [==============================] - 1s 2ms/step - loss: 6.0475 - mae: 1.8021 - val_loss: 16.6499 - val_mae: 2.6627\n",
            "Epoch 32/100\n",
            "404/404 [==============================] - 1s 2ms/step - loss: 5.8567 - mae: 1.7396 - val_loss: 17.2037 - val_mae: 2.6207\n",
            "Epoch 33/100\n",
            "404/404 [==============================] - 1s 2ms/step - loss: 5.1385 - mae: 1.6382 - val_loss: 14.1261 - val_mae: 2.5173\n",
            "Epoch 34/100\n",
            "404/404 [==============================] - 1s 2ms/step - loss: 5.1634 - mae: 1.6509 - val_loss: 15.4182 - val_mae: 2.7163\n",
            "Epoch 35/100\n",
            "404/404 [==============================] - 1s 2ms/step - loss: 5.1827 - mae: 1.6745 - val_loss: 12.3262 - val_mae: 2.4387\n",
            "Epoch 36/100\n",
            "404/404 [==============================] - 1s 2ms/step - loss: 5.2793 - mae: 1.6889 - val_loss: 14.7611 - val_mae: 2.5378\n",
            "Epoch 37/100\n",
            "404/404 [==============================] - 1s 2ms/step - loss: 4.8950 - mae: 1.6091 - val_loss: 16.0123 - val_mae: 2.8206\n",
            "Epoch 38/100\n",
            "404/404 [==============================] - 1s 3ms/step - loss: 4.8833 - mae: 1.6337 - val_loss: 12.4893 - val_mae: 2.4050\n",
            "Epoch 39/100\n",
            "404/404 [==============================] - 1s 3ms/step - loss: 5.0984 - mae: 1.6248 - val_loss: 20.8809 - val_mae: 3.2139\n",
            "Epoch 40/100\n",
            "404/404 [==============================] - 1s 2ms/step - loss: 5.0947 - mae: 1.6796 - val_loss: 12.3559 - val_mae: 2.4427\n",
            "Epoch 41/100\n",
            "404/404 [==============================] - 1s 2ms/step - loss: 4.4485 - mae: 1.5859 - val_loss: 15.3846 - val_mae: 2.6266\n",
            "Epoch 42/100\n",
            "404/404 [==============================] - 1s 2ms/step - loss: 4.5939 - mae: 1.6122 - val_loss: 12.8935 - val_mae: 2.3894\n",
            "Epoch 43/100\n",
            "404/404 [==============================] - 1s 2ms/step - loss: 4.2662 - mae: 1.5401 - val_loss: 12.2845 - val_mae: 2.4129\n",
            "Epoch 44/100\n",
            "404/404 [==============================] - 1s 2ms/step - loss: 4.7105 - mae: 1.6177 - val_loss: 14.2689 - val_mae: 2.6281\n",
            "Epoch 45/100\n",
            "404/404 [==============================] - 1s 2ms/step - loss: 4.5994 - mae: 1.5842 - val_loss: 14.2848 - val_mae: 2.5043\n",
            "Epoch 46/100\n",
            "404/404 [==============================] - 1s 2ms/step - loss: 4.4333 - mae: 1.5611 - val_loss: 11.5462 - val_mae: 2.3556\n",
            "Epoch 47/100\n",
            "404/404 [==============================] - 1s 2ms/step - loss: 4.2940 - mae: 1.5434 - val_loss: 12.6742 - val_mae: 2.4254\n",
            "Epoch 48/100\n",
            "404/404 [==============================] - 1s 2ms/step - loss: 4.0240 - mae: 1.5248 - val_loss: 16.4655 - val_mae: 2.8389\n",
            "Epoch 49/100\n",
            "404/404 [==============================] - 1s 2ms/step - loss: 4.3081 - mae: 1.5938 - val_loss: 11.4510 - val_mae: 2.3695\n",
            "Epoch 50/100\n",
            "404/404 [==============================] - 1s 2ms/step - loss: 4.3096 - mae: 1.4866 - val_loss: 11.3599 - val_mae: 2.4598\n",
            "Epoch 51/100\n",
            "404/404 [==============================] - 1s 2ms/step - loss: 4.0515 - mae: 1.5247 - val_loss: 10.3315 - val_mae: 2.2088\n",
            "Epoch 52/100\n",
            "404/404 [==============================] - 1s 2ms/step - loss: 3.8136 - mae: 1.5065 - val_loss: 11.3532 - val_mae: 2.3254\n",
            "Epoch 53/100\n",
            "404/404 [==============================] - 1s 3ms/step - loss: 3.7243 - mae: 1.4665 - val_loss: 11.8015 - val_mae: 2.3003\n",
            "Epoch 54/100\n",
            "404/404 [==============================] - 1s 3ms/step - loss: 3.5960 - mae: 1.3987 - val_loss: 13.9809 - val_mae: 2.7377\n",
            "Epoch 55/100\n",
            "404/404 [==============================] - 1s 2ms/step - loss: 3.8490 - mae: 1.4272 - val_loss: 14.3588 - val_mae: 2.5282\n",
            "Epoch 56/100\n",
            "404/404 [==============================] - 1s 2ms/step - loss: 3.5555 - mae: 1.4167 - val_loss: 12.6394 - val_mae: 2.7418\n",
            "Epoch 57/100\n",
            "404/404 [==============================] - 1s 2ms/step - loss: 3.4271 - mae: 1.3750 - val_loss: 11.1096 - val_mae: 2.3214\n",
            "Epoch 58/100\n",
            "404/404 [==============================] - 1s 2ms/step - loss: 4.1104 - mae: 1.4757 - val_loss: 11.7369 - val_mae: 2.3626\n",
            "Epoch 59/100\n",
            "404/404 [==============================] - 1s 2ms/step - loss: 3.6114 - mae: 1.4427 - val_loss: 12.9964 - val_mae: 2.5940\n",
            "Epoch 60/100\n",
            "404/404 [==============================] - 1s 2ms/step - loss: 3.5348 - mae: 1.3758 - val_loss: 13.6081 - val_mae: 2.5208\n",
            "Epoch 61/100\n",
            "404/404 [==============================] - 1s 2ms/step - loss: 3.2124 - mae: 1.3755 - val_loss: 11.9123 - val_mae: 2.4916\n",
            "Epoch 62/100\n",
            "404/404 [==============================] - 1s 2ms/step - loss: 3.5122 - mae: 1.4140 - val_loss: 11.8553 - val_mae: 2.2961\n",
            "Epoch 63/100\n",
            "404/404 [==============================] - 1s 2ms/step - loss: 3.7293 - mae: 1.4459 - val_loss: 12.0564 - val_mae: 2.4176\n",
            "Epoch 64/100\n",
            "404/404 [==============================] - 1s 2ms/step - loss: 3.6262 - mae: 1.3715 - val_loss: 11.1579 - val_mae: 2.4052\n",
            "Epoch 65/100\n",
            "404/404 [==============================] - 1s 2ms/step - loss: 3.3068 - mae: 1.3710 - val_loss: 11.8275 - val_mae: 2.4355\n",
            "Epoch 66/100\n",
            "404/404 [==============================] - 1s 2ms/step - loss: 3.1584 - mae: 1.3386 - val_loss: 11.5528 - val_mae: 2.4786\n",
            "Epoch 67/100\n",
            "404/404 [==============================] - 1s 2ms/step - loss: 3.4774 - mae: 1.3936 - val_loss: 14.7788 - val_mae: 2.7532\n",
            "Epoch 68/100\n",
            "404/404 [==============================] - 1s 3ms/step - loss: 4.1086 - mae: 1.4673 - val_loss: 14.4449 - val_mae: 2.5285\n",
            "Epoch 69/100\n",
            "404/404 [==============================] - 1s 3ms/step - loss: 3.2298 - mae: 1.3702 - val_loss: 11.8227 - val_mae: 2.3093\n",
            "Epoch 70/100\n",
            "404/404 [==============================] - 1s 2ms/step - loss: 2.9833 - mae: 1.2939 - val_loss: 12.3480 - val_mae: 2.4865\n",
            "Epoch 71/100\n",
            "404/404 [==============================] - 1s 2ms/step - loss: 2.9305 - mae: 1.2804 - val_loss: 14.4785 - val_mae: 2.7044\n",
            "Epoch 72/100\n",
            "404/404 [==============================] - 1s 2ms/step - loss: 2.8462 - mae: 1.2547 - val_loss: 14.0953 - val_mae: 2.8615\n",
            "Epoch 73/100\n",
            "404/404 [==============================] - 1s 2ms/step - loss: 2.6504 - mae: 1.2090 - val_loss: 11.4618 - val_mae: 2.4959\n",
            "Epoch 74/100\n",
            "404/404 [==============================] - 1s 2ms/step - loss: 3.4273 - mae: 1.4065 - val_loss: 10.6010 - val_mae: 2.2548\n",
            "Epoch 75/100\n",
            "404/404 [==============================] - 1s 2ms/step - loss: 3.1637 - mae: 1.3618 - val_loss: 10.2108 - val_mae: 2.2965\n",
            "Epoch 76/100\n",
            "404/404 [==============================] - 1s 2ms/step - loss: 3.0426 - mae: 1.3034 - val_loss: 12.3665 - val_mae: 2.5695\n",
            "Epoch 77/100\n",
            "404/404 [==============================] - 1s 2ms/step - loss: 3.1790 - mae: 1.3291 - val_loss: 11.5152 - val_mae: 2.3948\n",
            "Epoch 78/100\n",
            "404/404 [==============================] - 1s 2ms/step - loss: 2.6106 - mae: 1.2086 - val_loss: 12.7598 - val_mae: 2.4383\n",
            "Epoch 79/100\n",
            "404/404 [==============================] - 1s 2ms/step - loss: 3.0004 - mae: 1.3143 - val_loss: 11.6451 - val_mae: 2.4104\n",
            "Epoch 80/100\n",
            "404/404 [==============================] - 1s 2ms/step - loss: 3.0962 - mae: 1.2924 - val_loss: 11.0637 - val_mae: 2.3769\n",
            "Epoch 81/100\n",
            "404/404 [==============================] - 1s 2ms/step - loss: 2.5358 - mae: 1.2066 - val_loss: 11.1246 - val_mae: 2.5179\n",
            "Epoch 82/100\n",
            "404/404 [==============================] - 1s 2ms/step - loss: 2.7736 - mae: 1.2301 - val_loss: 11.0412 - val_mae: 2.4354\n",
            "Epoch 83/100\n",
            "404/404 [==============================] - 1s 3ms/step - loss: 3.0967 - mae: 1.2953 - val_loss: 13.1144 - val_mae: 2.5434\n",
            "Epoch 84/100\n",
            "404/404 [==============================] - 1s 3ms/step - loss: 2.9094 - mae: 1.2476 - val_loss: 10.3407 - val_mae: 2.3168\n",
            "Epoch 85/100\n",
            "404/404 [==============================] - 1s 2ms/step - loss: 2.3655 - mae: 1.1455 - val_loss: 12.0468 - val_mae: 2.3457\n",
            "Epoch 86/100\n",
            "404/404 [==============================] - 1s 2ms/step - loss: 2.6953 - mae: 1.2196 - val_loss: 11.7692 - val_mae: 2.4890\n",
            "Epoch 87/100\n",
            "404/404 [==============================] - 1s 2ms/step - loss: 2.5780 - mae: 1.1963 - val_loss: 12.1750 - val_mae: 2.3008\n",
            "Epoch 88/100\n",
            "404/404 [==============================] - 1s 2ms/step - loss: 3.0786 - mae: 1.3137 - val_loss: 10.8993 - val_mae: 2.3241\n",
            "Epoch 89/100\n",
            "404/404 [==============================] - 1s 2ms/step - loss: 2.2300 - mae: 1.0989 - val_loss: 11.0223 - val_mae: 2.3422\n",
            "Epoch 90/100\n",
            "404/404 [==============================] - 1s 2ms/step - loss: 2.4482 - mae: 1.1902 - val_loss: 11.3606 - val_mae: 2.4105\n",
            "Epoch 91/100\n",
            "404/404 [==============================] - 1s 2ms/step - loss: 2.3593 - mae: 1.1642 - val_loss: 10.3123 - val_mae: 2.3654\n",
            "Epoch 92/100\n",
            "404/404 [==============================] - 1s 2ms/step - loss: 2.3273 - mae: 1.1181 - val_loss: 10.1262 - val_mae: 2.2096\n",
            "Epoch 93/100\n",
            "404/404 [==============================] - 1s 2ms/step - loss: 2.4862 - mae: 1.1905 - val_loss: 12.5619 - val_mae: 2.4429\n",
            "Epoch 94/100\n",
            "404/404 [==============================] - 1s 2ms/step - loss: 2.6926 - mae: 1.2653 - val_loss: 9.8133 - val_mae: 2.2528\n",
            "Epoch 95/100\n",
            "404/404 [==============================] - 1s 2ms/step - loss: 2.4357 - mae: 1.1561 - val_loss: 10.3101 - val_mae: 2.2520\n",
            "Epoch 96/100\n",
            "404/404 [==============================] - 1s 2ms/step - loss: 2.4437 - mae: 1.1551 - val_loss: 11.7081 - val_mae: 2.3610\n",
            "Epoch 97/100\n",
            "404/404 [==============================] - 1s 2ms/step - loss: 2.3008 - mae: 1.1241 - val_loss: 11.3845 - val_mae: 2.3941\n",
            "Epoch 98/100\n",
            "404/404 [==============================] - 1s 3ms/step - loss: 2.2561 - mae: 1.1368 - val_loss: 9.9193 - val_mae: 2.2567\n",
            "Epoch 99/100\n",
            "404/404 [==============================] - 1s 3ms/step - loss: 2.5401 - mae: 1.2102 - val_loss: 10.0739 - val_mae: 2.2588\n",
            "Epoch 100/100\n",
            "404/404 [==============================] - 1s 2ms/step - loss: 2.4294 - mae: 1.1355 - val_loss: 10.3713 - val_mae: 2.3987\n"
          ]
        }
      ]
    },
    {
      "cell_type": "code",
      "source": [
        "test_x[8]"
      ],
      "metadata": {
        "colab": {
          "base_uri": "https://localhost:8080/"
        },
        "id": "WNQ6Rp2FZOwR",
        "outputId": "800ee32c-2a36-422e-b4b6-8e0c050e40eb"
      },
      "execution_count": null,
      "outputs": [
        {
          "output_type": "execute_result",
          "data": {
            "text/plain": [
              "array([-0.39570978, -0.48361547,  2.13815109, -0.25683275,  0.20183093,\n",
              "       -0.43176465,  0.85606329, -0.81539201, -0.85646254, -1.31131055,\n",
              "        0.28394328,  0.24795926,  0.71618792])"
            ]
          },
          "metadata": {},
          "execution_count": 11
        }
      ]
    },
    {
      "cell_type": "code",
      "source": [
        "test_input=[[-0.39570978, -0.48361547,  2.13815109, -0.25683275,  0.20183093,\n",
        "       -0.43176465,  0.85606329, -0.81539201, -0.85646254, -1.31131055,\n",
        "        0.28394328,  0.24795926,  0.71618792]]\n",
        "print(\"Actual Output :\",test_y[8])\n",
        "print(\"Predicted Output :\",model.predict(test_input))"
      ],
      "metadata": {
        "colab": {
          "base_uri": "https://localhost:8080/"
        },
        "id": "R0rgDd32Z2y4",
        "outputId": "7a43deb2-e160-4e24-ef02-a163c8eb8e9a"
      },
      "execution_count": null,
      "outputs": [
        {
          "output_type": "stream",
          "name": "stdout",
          "text": [
            "Actual Output : 20.5\n",
            "1/1 [==============================] - 0s 112ms/step\n",
            "Predicted Output : [[17.897112]]\n"
          ]
        }
      ]
    },
    {
      "cell_type": "code",
      "source": [
        "fig = go.Figure()\n",
        "fig.add_trace(go.Scattergl(y=history.history['loss'],name='Train'))\n",
        "fig.add_trace(go.Scattergl(y=history.history['val_loss'],name='Valid'))\n",
        "fig.update_layout(height=500, width=700,xaxis_title='Epoch',yaxis_title='Loss')\n",
        "fig.show()"
      ],
      "metadata": {
        "colab": {
          "base_uri": "https://localhost:8080/",
          "height": 517
        },
        "id": "A4rEespDZ5Cg",
        "outputId": "fbf61be3-7d70-4c68-cef6-d6180cb31400"
      },
      "execution_count": null,
      "outputs": [
        {
          "output_type": "display_data",
          "data": {
            "text/html": [
              "<html>\n",
              "<head><meta charset=\"utf-8\" /></head>\n",
              "<body>\n",
              "    <div>            <script src=\"https://cdnjs.cloudflare.com/ajax/libs/mathjax/2.7.5/MathJax.js?config=TeX-AMS-MML_SVG\"></script><script type=\"text/javascript\">if (window.MathJax && window.MathJax.Hub && window.MathJax.Hub.Config) {window.MathJax.Hub.Config({SVG: {font: \"STIX-Web\"}});}</script>                <script type=\"text/javascript\">window.PlotlyConfig = {MathJaxConfig: 'local'};</script>\n",
              "        <script charset=\"utf-8\" src=\"https://cdn.plot.ly/plotly-2.24.1.min.js\"></script>                <div id=\"34cce12d-3aa0-4ec9-8c7f-ff5a60fb5aa7\" class=\"plotly-graph-div\" style=\"height:500px; width:700px;\"></div>            <script type=\"text/javascript\">                                    window.PLOTLYENV=window.PLOTLYENV || {};                                    if (document.getElementById(\"34cce12d-3aa0-4ec9-8c7f-ff5a60fb5aa7\")) {                    Plotly.newPlot(                        \"34cce12d-3aa0-4ec9-8c7f-ff5a60fb5aa7\",                        [{\"name\":\"Train\",\"y\":[105.1573486328125,18.388111114501953,13.431015968322754,12.85643482208252,11.606364250183105,10.659093856811523,10.193278312683105,10.448763847351074,10.672059059143066,9.762643814086914,9.189604759216309,8.879033088684082,9.322076797485352,8.250324249267578,8.443344116210938,7.630006313323975,7.7939677238464355,8.037726402282715,7.6533403396606445,7.296725273132324,7.243865013122559,7.459685802459717,6.976840496063232,6.748326301574707,6.585175514221191,6.344170570373535,6.297593593597412,6.9503173828125,6.064605236053467,5.798880577087402,6.047451019287109,5.856710433959961,5.138542175292969,5.163354396820068,5.1826629638671875,5.279251575469971,4.8949995040893555,4.883327484130859,5.0983734130859375,5.094661235809326,4.4484543800354,4.5938591957092285,4.266232967376709,4.710529327392578,4.599416255950928,4.4332733154296875,4.2939629554748535,4.023996353149414,4.308098316192627,4.309627532958984,4.051514148712158,3.8136179447174072,3.7242960929870605,3.595991373062134,3.8489809036254883,3.555500030517578,3.42710280418396,4.110447883605957,3.61142635345459,3.5348453521728516,3.212395191192627,3.5122339725494385,3.7292816638946533,3.6262073516845703,3.3067877292633057,3.1584360599517822,3.4774222373962402,4.108593940734863,3.2297556400299072,2.983278751373291,2.9304561614990234,2.8462436199188232,2.6504204273223877,3.4273388385772705,3.1637306213378906,3.0425515174865723,3.179006338119507,2.610572099685669,3.00036883354187,3.0962491035461426,2.5357871055603027,2.7735960483551025,3.0966765880584717,2.909390687942505,2.3655478954315186,2.6952953338623047,2.5780439376831055,3.0786221027374268,2.2299506664276123,2.4481678009033203,2.359321355819702,2.3273048400878906,2.4861838817596436,2.6926357746124268,2.4356913566589355,2.443671226501465,2.300776958465576,2.256110191345215,2.5401439666748047,2.4293575286865234],\"type\":\"scattergl\"},{\"name\":\"Valid\",\"y\":[26.4771728515625,19.260433197021484,24.278911590576172,20.770376205444336,29.3337345123291,22.02022933959961,24.78553009033203,25.445980072021484,18.549089431762695,18.28723907470703,18.5864200592041,28.109512329101562,22.105722427368164,24.71980094909668,15.96794319152832,25.326181411743164,21.669940948486328,17.558151245117188,22.172618865966797,17.187000274658203,23.155378341674805,16.764738082885742,16.248533248901367,15.70934009552002,18.561145782470703,26.45138168334961,15.008593559265137,13.283868789672852,15.385581016540527,18.006000518798828,16.6498966217041,17.203733444213867,14.12608528137207,15.418249130249023,12.326191902160645,14.761059761047363,16.01229476928711,12.489309310913086,20.880878448486328,12.35587215423584,15.384563446044922,12.893545150756836,12.284544944763184,14.268877983093262,14.284762382507324,11.546172142028809,12.67416763305664,16.465513229370117,11.450971603393555,11.359890937805176,10.331452369689941,11.35322093963623,11.801530838012695,13.980905532836914,14.358757019042969,12.639409065246582,11.109582901000977,11.736937522888184,12.996394157409668,13.608134269714355,11.912330627441406,11.855267524719238,12.056418418884277,11.157876014709473,11.827472686767578,11.552820205688477,14.778783798217773,14.444890975952148,11.822746276855469,12.347976684570312,14.478530883789062,14.095290184020996,11.461828231811523,10.600976943969727,10.21075439453125,12.366538047790527,11.515216827392578,12.759801864624023,11.645137786865234,11.06370735168457,11.124589920043945,11.041228294372559,13.11435604095459,10.340746879577637,12.046789169311523,11.76918888092041,12.174965858459473,10.89926528930664,11.022255897521973,11.360586166381836,10.312313079833984,10.126216888427734,12.561932563781738,9.813253402709961,10.310125350952148,11.70811653137207,11.384480476379395,9.919289588928223,10.073941230773926,10.371269226074219],\"type\":\"scattergl\"}],                        {\"template\":{\"data\":{\"histogram2dcontour\":[{\"type\":\"histogram2dcontour\",\"colorbar\":{\"outlinewidth\":0,\"ticks\":\"\"},\"colorscale\":[[0.0,\"#0d0887\"],[0.1111111111111111,\"#46039f\"],[0.2222222222222222,\"#7201a8\"],[0.3333333333333333,\"#9c179e\"],[0.4444444444444444,\"#bd3786\"],[0.5555555555555556,\"#d8576b\"],[0.6666666666666666,\"#ed7953\"],[0.7777777777777778,\"#fb9f3a\"],[0.8888888888888888,\"#fdca26\"],[1.0,\"#f0f921\"]]}],\"choropleth\":[{\"type\":\"choropleth\",\"colorbar\":{\"outlinewidth\":0,\"ticks\":\"\"}}],\"histogram2d\":[{\"type\":\"histogram2d\",\"colorbar\":{\"outlinewidth\":0,\"ticks\":\"\"},\"colorscale\":[[0.0,\"#0d0887\"],[0.1111111111111111,\"#46039f\"],[0.2222222222222222,\"#7201a8\"],[0.3333333333333333,\"#9c179e\"],[0.4444444444444444,\"#bd3786\"],[0.5555555555555556,\"#d8576b\"],[0.6666666666666666,\"#ed7953\"],[0.7777777777777778,\"#fb9f3a\"],[0.8888888888888888,\"#fdca26\"],[1.0,\"#f0f921\"]]}],\"heatmap\":[{\"type\":\"heatmap\",\"colorbar\":{\"outlinewidth\":0,\"ticks\":\"\"},\"colorscale\":[[0.0,\"#0d0887\"],[0.1111111111111111,\"#46039f\"],[0.2222222222222222,\"#7201a8\"],[0.3333333333333333,\"#9c179e\"],[0.4444444444444444,\"#bd3786\"],[0.5555555555555556,\"#d8576b\"],[0.6666666666666666,\"#ed7953\"],[0.7777777777777778,\"#fb9f3a\"],[0.8888888888888888,\"#fdca26\"],[1.0,\"#f0f921\"]]}],\"heatmapgl\":[{\"type\":\"heatmapgl\",\"colorbar\":{\"outlinewidth\":0,\"ticks\":\"\"},\"colorscale\":[[0.0,\"#0d0887\"],[0.1111111111111111,\"#46039f\"],[0.2222222222222222,\"#7201a8\"],[0.3333333333333333,\"#9c179e\"],[0.4444444444444444,\"#bd3786\"],[0.5555555555555556,\"#d8576b\"],[0.6666666666666666,\"#ed7953\"],[0.7777777777777778,\"#fb9f3a\"],[0.8888888888888888,\"#fdca26\"],[1.0,\"#f0f921\"]]}],\"contourcarpet\":[{\"type\":\"contourcarpet\",\"colorbar\":{\"outlinewidth\":0,\"ticks\":\"\"}}],\"contour\":[{\"type\":\"contour\",\"colorbar\":{\"outlinewidth\":0,\"ticks\":\"\"},\"colorscale\":[[0.0,\"#0d0887\"],[0.1111111111111111,\"#46039f\"],[0.2222222222222222,\"#7201a8\"],[0.3333333333333333,\"#9c179e\"],[0.4444444444444444,\"#bd3786\"],[0.5555555555555556,\"#d8576b\"],[0.6666666666666666,\"#ed7953\"],[0.7777777777777778,\"#fb9f3a\"],[0.8888888888888888,\"#fdca26\"],[1.0,\"#f0f921\"]]}],\"surface\":[{\"type\":\"surface\",\"colorbar\":{\"outlinewidth\":0,\"ticks\":\"\"},\"colorscale\":[[0.0,\"#0d0887\"],[0.1111111111111111,\"#46039f\"],[0.2222222222222222,\"#7201a8\"],[0.3333333333333333,\"#9c179e\"],[0.4444444444444444,\"#bd3786\"],[0.5555555555555556,\"#d8576b\"],[0.6666666666666666,\"#ed7953\"],[0.7777777777777778,\"#fb9f3a\"],[0.8888888888888888,\"#fdca26\"],[1.0,\"#f0f921\"]]}],\"mesh3d\":[{\"type\":\"mesh3d\",\"colorbar\":{\"outlinewidth\":0,\"ticks\":\"\"}}],\"scatter\":[{\"fillpattern\":{\"fillmode\":\"overlay\",\"size\":10,\"solidity\":0.2},\"type\":\"scatter\"}],\"parcoords\":[{\"type\":\"parcoords\",\"line\":{\"colorbar\":{\"outlinewidth\":0,\"ticks\":\"\"}}}],\"scatterpolargl\":[{\"type\":\"scatterpolargl\",\"marker\":{\"colorbar\":{\"outlinewidth\":0,\"ticks\":\"\"}}}],\"bar\":[{\"error_x\":{\"color\":\"#2a3f5f\"},\"error_y\":{\"color\":\"#2a3f5f\"},\"marker\":{\"line\":{\"color\":\"#E5ECF6\",\"width\":0.5},\"pattern\":{\"fillmode\":\"overlay\",\"size\":10,\"solidity\":0.2}},\"type\":\"bar\"}],\"scattergeo\":[{\"type\":\"scattergeo\",\"marker\":{\"colorbar\":{\"outlinewidth\":0,\"ticks\":\"\"}}}],\"scatterpolar\":[{\"type\":\"scatterpolar\",\"marker\":{\"colorbar\":{\"outlinewidth\":0,\"ticks\":\"\"}}}],\"histogram\":[{\"marker\":{\"pattern\":{\"fillmode\":\"overlay\",\"size\":10,\"solidity\":0.2}},\"type\":\"histogram\"}],\"scattergl\":[{\"type\":\"scattergl\",\"marker\":{\"colorbar\":{\"outlinewidth\":0,\"ticks\":\"\"}}}],\"scatter3d\":[{\"type\":\"scatter3d\",\"line\":{\"colorbar\":{\"outlinewidth\":0,\"ticks\":\"\"}},\"marker\":{\"colorbar\":{\"outlinewidth\":0,\"ticks\":\"\"}}}],\"scattermapbox\":[{\"type\":\"scattermapbox\",\"marker\":{\"colorbar\":{\"outlinewidth\":0,\"ticks\":\"\"}}}],\"scatterternary\":[{\"type\":\"scatterternary\",\"marker\":{\"colorbar\":{\"outlinewidth\":0,\"ticks\":\"\"}}}],\"scattercarpet\":[{\"type\":\"scattercarpet\",\"marker\":{\"colorbar\":{\"outlinewidth\":0,\"ticks\":\"\"}}}],\"carpet\":[{\"aaxis\":{\"endlinecolor\":\"#2a3f5f\",\"gridcolor\":\"white\",\"linecolor\":\"white\",\"minorgridcolor\":\"white\",\"startlinecolor\":\"#2a3f5f\"},\"baxis\":{\"endlinecolor\":\"#2a3f5f\",\"gridcolor\":\"white\",\"linecolor\":\"white\",\"minorgridcolor\":\"white\",\"startlinecolor\":\"#2a3f5f\"},\"type\":\"carpet\"}],\"table\":[{\"cells\":{\"fill\":{\"color\":\"#EBF0F8\"},\"line\":{\"color\":\"white\"}},\"header\":{\"fill\":{\"color\":\"#C8D4E3\"},\"line\":{\"color\":\"white\"}},\"type\":\"table\"}],\"barpolar\":[{\"marker\":{\"line\":{\"color\":\"#E5ECF6\",\"width\":0.5},\"pattern\":{\"fillmode\":\"overlay\",\"size\":10,\"solidity\":0.2}},\"type\":\"barpolar\"}],\"pie\":[{\"automargin\":true,\"type\":\"pie\"}]},\"layout\":{\"autotypenumbers\":\"strict\",\"colorway\":[\"#636efa\",\"#EF553B\",\"#00cc96\",\"#ab63fa\",\"#FFA15A\",\"#19d3f3\",\"#FF6692\",\"#B6E880\",\"#FF97FF\",\"#FECB52\"],\"font\":{\"color\":\"#2a3f5f\"},\"hovermode\":\"closest\",\"hoverlabel\":{\"align\":\"left\"},\"paper_bgcolor\":\"white\",\"plot_bgcolor\":\"#E5ECF6\",\"polar\":{\"bgcolor\":\"#E5ECF6\",\"angularaxis\":{\"gridcolor\":\"white\",\"linecolor\":\"white\",\"ticks\":\"\"},\"radialaxis\":{\"gridcolor\":\"white\",\"linecolor\":\"white\",\"ticks\":\"\"}},\"ternary\":{\"bgcolor\":\"#E5ECF6\",\"aaxis\":{\"gridcolor\":\"white\",\"linecolor\":\"white\",\"ticks\":\"\"},\"baxis\":{\"gridcolor\":\"white\",\"linecolor\":\"white\",\"ticks\":\"\"},\"caxis\":{\"gridcolor\":\"white\",\"linecolor\":\"white\",\"ticks\":\"\"}},\"coloraxis\":{\"colorbar\":{\"outlinewidth\":0,\"ticks\":\"\"}},\"colorscale\":{\"sequential\":[[0.0,\"#0d0887\"],[0.1111111111111111,\"#46039f\"],[0.2222222222222222,\"#7201a8\"],[0.3333333333333333,\"#9c179e\"],[0.4444444444444444,\"#bd3786\"],[0.5555555555555556,\"#d8576b\"],[0.6666666666666666,\"#ed7953\"],[0.7777777777777778,\"#fb9f3a\"],[0.8888888888888888,\"#fdca26\"],[1.0,\"#f0f921\"]],\"sequentialminus\":[[0.0,\"#0d0887\"],[0.1111111111111111,\"#46039f\"],[0.2222222222222222,\"#7201a8\"],[0.3333333333333333,\"#9c179e\"],[0.4444444444444444,\"#bd3786\"],[0.5555555555555556,\"#d8576b\"],[0.6666666666666666,\"#ed7953\"],[0.7777777777777778,\"#fb9f3a\"],[0.8888888888888888,\"#fdca26\"],[1.0,\"#f0f921\"]],\"diverging\":[[0,\"#8e0152\"],[0.1,\"#c51b7d\"],[0.2,\"#de77ae\"],[0.3,\"#f1b6da\"],[0.4,\"#fde0ef\"],[0.5,\"#f7f7f7\"],[0.6,\"#e6f5d0\"],[0.7,\"#b8e186\"],[0.8,\"#7fbc41\"],[0.9,\"#4d9221\"],[1,\"#276419\"]]},\"xaxis\":{\"gridcolor\":\"white\",\"linecolor\":\"white\",\"ticks\":\"\",\"title\":{\"standoff\":15},\"zerolinecolor\":\"white\",\"automargin\":true,\"zerolinewidth\":2},\"yaxis\":{\"gridcolor\":\"white\",\"linecolor\":\"white\",\"ticks\":\"\",\"title\":{\"standoff\":15},\"zerolinecolor\":\"white\",\"automargin\":true,\"zerolinewidth\":2},\"scene\":{\"xaxis\":{\"backgroundcolor\":\"#E5ECF6\",\"gridcolor\":\"white\",\"linecolor\":\"white\",\"showbackground\":true,\"ticks\":\"\",\"zerolinecolor\":\"white\",\"gridwidth\":2},\"yaxis\":{\"backgroundcolor\":\"#E5ECF6\",\"gridcolor\":\"white\",\"linecolor\":\"white\",\"showbackground\":true,\"ticks\":\"\",\"zerolinecolor\":\"white\",\"gridwidth\":2},\"zaxis\":{\"backgroundcolor\":\"#E5ECF6\",\"gridcolor\":\"white\",\"linecolor\":\"white\",\"showbackground\":true,\"ticks\":\"\",\"zerolinecolor\":\"white\",\"gridwidth\":2}},\"shapedefaults\":{\"line\":{\"color\":\"#2a3f5f\"}},\"annotationdefaults\":{\"arrowcolor\":\"#2a3f5f\",\"arrowhead\":0,\"arrowwidth\":1},\"geo\":{\"bgcolor\":\"white\",\"landcolor\":\"#E5ECF6\",\"subunitcolor\":\"white\",\"showland\":true,\"showlakes\":true,\"lakecolor\":\"white\"},\"title\":{\"x\":0.05},\"mapbox\":{\"style\":\"light\"}}},\"height\":500,\"width\":700,\"xaxis\":{\"title\":{\"text\":\"Epoch\"}},\"yaxis\":{\"title\":{\"text\":\"Loss\"}}},                        {\"responsive\": true}                    ).then(function(){\n",
              "                            \n",
              "var gd = document.getElementById('34cce12d-3aa0-4ec9-8c7f-ff5a60fb5aa7');\n",
              "var x = new MutationObserver(function (mutations, observer) {{\n",
              "        var display = window.getComputedStyle(gd).display;\n",
              "        if (!display || display === 'none') {{\n",
              "            console.log([gd, 'removed!']);\n",
              "            Plotly.purge(gd);\n",
              "            observer.disconnect();\n",
              "        }}\n",
              "}});\n",
              "\n",
              "// Listen for the removal of the full notebook cells\n",
              "var notebookContainer = gd.closest('#notebook-container');\n",
              "if (notebookContainer) {{\n",
              "    x.observe(notebookContainer, {childList: true});\n",
              "}}\n",
              "\n",
              "// Listen for the clearing of the current output cell\n",
              "var outputEl = gd.closest('.output');\n",
              "if (outputEl) {{\n",
              "    x.observe(outputEl, {childList: true});\n",
              "}}\n",
              "\n",
              "                        })                };                            </script>        </div>\n",
              "</body>\n",
              "</html>"
            ]
          },
          "metadata": {}
        }
      ]
    },
    {
      "cell_type": "code",
      "source": [
        "fig = go.Figure()\n",
        "fig.add_trace(go.Scattergl(y=history.history['mae'],name='Train'))\n",
        "fig.add_trace(go.Scattergl(y=history.history['val_mae'],name='Valid'))\n",
        "fig.update_layout(height=500, width=700,xaxis_title='Epoch',yaxis_title='Mean Absolute Error')\n",
        "fig.show()"
      ],
      "metadata": {
        "colab": {
          "base_uri": "https://localhost:8080/",
          "height": 517
        },
        "id": "wi6CxE3qZ-R7",
        "outputId": "ff02749f-5546-400c-f279-57483d31943d"
      },
      "execution_count": null,
      "outputs": [
        {
          "output_type": "display_data",
          "data": {
            "text/html": [
              "<html>\n",
              "<head><meta charset=\"utf-8\" /></head>\n",
              "<body>\n",
              "    <div>            <script src=\"https://cdnjs.cloudflare.com/ajax/libs/mathjax/2.7.5/MathJax.js?config=TeX-AMS-MML_SVG\"></script><script type=\"text/javascript\">if (window.MathJax && window.MathJax.Hub && window.MathJax.Hub.Config) {window.MathJax.Hub.Config({SVG: {font: \"STIX-Web\"}});}</script>                <script type=\"text/javascript\">window.PlotlyConfig = {MathJaxConfig: 'local'};</script>\n",
              "        <script charset=\"utf-8\" src=\"https://cdn.plot.ly/plotly-2.24.1.min.js\"></script>                <div id=\"f3b30b1f-58c4-46c4-a3cf-42121b80b7cb\" class=\"plotly-graph-div\" style=\"height:500px; width:700px;\"></div>            <script type=\"text/javascript\">                                    window.PLOTLYENV=window.PLOTLYENV || {};                                    if (document.getElementById(\"f3b30b1f-58c4-46c4-a3cf-42121b80b7cb\")) {                    Plotly.newPlot(                        \"f3b30b1f-58c4-46c4-a3cf-42121b80b7cb\",                        [{\"name\":\"Train\",\"y\":[6.854437828063965,2.8919968605041504,2.5604357719421387,2.622361183166504,2.413982629776001,2.3145368099212646,2.2966201305389404,2.3889522552490234,2.4287867546081543,2.244349956512451,2.1739556789398193,2.2035744190216064,2.173518657684326,2.031287431716919,2.1097373962402344,1.9993247985839844,2.0478858947753906,2.1154918670654297,1.9697694778442383,2.0140440464019775,1.9162596464157104,1.9604870080947876,1.909377932548523,1.9080275297164917,1.9050672054290771,1.8238614797592163,1.8907030820846558,1.8301136493682861,1.7846406698226929,1.7068874835968018,1.8021070957183838,1.7396471500396729,1.638163685798645,1.6508907079696655,1.6744626760482788,1.6889333724975586,1.6090524196624756,1.6337432861328125,1.6247714757919312,1.679627537727356,1.58588445186615,1.6122193336486816,1.5401220321655273,1.6176677942276,1.5841915607452393,1.5611227750778198,1.543449878692627,1.5248409509658813,1.5938434600830078,1.4865763187408447,1.5246728658676147,1.5064914226531982,1.4665398597717285,1.3986680507659912,1.4272077083587646,1.4166535139083862,1.3749713897705078,1.4756875038146973,1.442685604095459,1.3757535219192505,1.3754976987838745,1.4140167236328125,1.4459340572357178,1.3714618682861328,1.3710271120071411,1.3386036157608032,1.3935507535934448,1.467324137687683,1.3701709508895874,1.2938528060913086,1.280373454093933,1.254699468612671,1.2090123891830444,1.40647554397583,1.3617874383926392,1.3033920526504517,1.3290596008300781,1.2086378335952759,1.314333200454712,1.2923574447631836,1.206580638885498,1.2301452159881592,1.295289397239685,1.2476357221603394,1.1455409526824951,1.2196300029754639,1.1963155269622803,1.3137189149856567,1.0989490747451782,1.1901684999465942,1.1642488241195679,1.1180723905563354,1.1905345916748047,1.2653448581695557,1.1561121940612793,1.1550889015197754,1.124131441116333,1.136785626411438,1.2101776599884033,1.1355383396148682],\"type\":\"scattergl\"},{\"name\":\"Valid\",\"y\":[3.884871482849121,3.121659278869629,3.472970485687256,3.0387122631073,3.413618564605713,3.0515434741973877,3.26472544670105,3.325101137161255,2.834280252456665,2.638212203979492,2.844352960586548,3.137474775314331,3.009532928466797,3.4031522274017334,2.5888123512268066,3.286738872528076,2.8440704345703125,2.723987579345703,2.8663105964660645,2.585012912750244,3.414956569671631,2.618751049041748,2.5094525814056396,2.411810874938965,2.862903118133545,3.614011764526367,2.5578362941741943,2.415186643600464,2.611853837966919,2.8777904510498047,2.6627020835876465,2.620729684829712,2.51725697517395,2.7163143157958984,2.4387099742889404,2.5377533435821533,2.820594549179077,2.4050040245056152,3.2138519287109375,2.442711591720581,2.626558780670166,2.3894388675689697,2.4128968715667725,2.6281230449676514,2.504349708557129,2.3556368350982666,2.42541766166687,2.8388702869415283,2.3695247173309326,2.4597930908203125,2.208826780319214,2.3254199028015137,2.3003156185150146,2.7377007007598877,2.528231382369995,2.741849660873413,2.3214449882507324,2.3626060485839844,2.593963384628296,2.52077317237854,2.4915964603424072,2.296119213104248,2.41756272315979,2.405193328857422,2.4355297088623047,2.4786248207092285,2.753201961517334,2.5284929275512695,2.3092617988586426,2.486461877822876,2.7044031620025635,2.8615005016326904,2.495917558670044,2.2548110485076904,2.296455144882202,2.5695364475250244,2.394785165786743,2.438303232192993,2.410360813140869,2.3769421577453613,2.517887592315674,2.43537974357605,2.543367385864258,2.3167691230773926,2.345733404159546,2.4889869689941406,2.3008224964141846,2.3240671157836914,2.342184543609619,2.4104928970336914,2.3653554916381836,2.209636688232422,2.4428622722625732,2.252753973007202,2.252014636993408,2.360999345779419,2.394101858139038,2.256676197052002,2.25878643989563,2.3986923694610596],\"type\":\"scattergl\"}],                        {\"template\":{\"data\":{\"histogram2dcontour\":[{\"type\":\"histogram2dcontour\",\"colorbar\":{\"outlinewidth\":0,\"ticks\":\"\"},\"colorscale\":[[0.0,\"#0d0887\"],[0.1111111111111111,\"#46039f\"],[0.2222222222222222,\"#7201a8\"],[0.3333333333333333,\"#9c179e\"],[0.4444444444444444,\"#bd3786\"],[0.5555555555555556,\"#d8576b\"],[0.6666666666666666,\"#ed7953\"],[0.7777777777777778,\"#fb9f3a\"],[0.8888888888888888,\"#fdca26\"],[1.0,\"#f0f921\"]]}],\"choropleth\":[{\"type\":\"choropleth\",\"colorbar\":{\"outlinewidth\":0,\"ticks\":\"\"}}],\"histogram2d\":[{\"type\":\"histogram2d\",\"colorbar\":{\"outlinewidth\":0,\"ticks\":\"\"},\"colorscale\":[[0.0,\"#0d0887\"],[0.1111111111111111,\"#46039f\"],[0.2222222222222222,\"#7201a8\"],[0.3333333333333333,\"#9c179e\"],[0.4444444444444444,\"#bd3786\"],[0.5555555555555556,\"#d8576b\"],[0.6666666666666666,\"#ed7953\"],[0.7777777777777778,\"#fb9f3a\"],[0.8888888888888888,\"#fdca26\"],[1.0,\"#f0f921\"]]}],\"heatmap\":[{\"type\":\"heatmap\",\"colorbar\":{\"outlinewidth\":0,\"ticks\":\"\"},\"colorscale\":[[0.0,\"#0d0887\"],[0.1111111111111111,\"#46039f\"],[0.2222222222222222,\"#7201a8\"],[0.3333333333333333,\"#9c179e\"],[0.4444444444444444,\"#bd3786\"],[0.5555555555555556,\"#d8576b\"],[0.6666666666666666,\"#ed7953\"],[0.7777777777777778,\"#fb9f3a\"],[0.8888888888888888,\"#fdca26\"],[1.0,\"#f0f921\"]]}],\"heatmapgl\":[{\"type\":\"heatmapgl\",\"colorbar\":{\"outlinewidth\":0,\"ticks\":\"\"},\"colorscale\":[[0.0,\"#0d0887\"],[0.1111111111111111,\"#46039f\"],[0.2222222222222222,\"#7201a8\"],[0.3333333333333333,\"#9c179e\"],[0.4444444444444444,\"#bd3786\"],[0.5555555555555556,\"#d8576b\"],[0.6666666666666666,\"#ed7953\"],[0.7777777777777778,\"#fb9f3a\"],[0.8888888888888888,\"#fdca26\"],[1.0,\"#f0f921\"]]}],\"contourcarpet\":[{\"type\":\"contourcarpet\",\"colorbar\":{\"outlinewidth\":0,\"ticks\":\"\"}}],\"contour\":[{\"type\":\"contour\",\"colorbar\":{\"outlinewidth\":0,\"ticks\":\"\"},\"colorscale\":[[0.0,\"#0d0887\"],[0.1111111111111111,\"#46039f\"],[0.2222222222222222,\"#7201a8\"],[0.3333333333333333,\"#9c179e\"],[0.4444444444444444,\"#bd3786\"],[0.5555555555555556,\"#d8576b\"],[0.6666666666666666,\"#ed7953\"],[0.7777777777777778,\"#fb9f3a\"],[0.8888888888888888,\"#fdca26\"],[1.0,\"#f0f921\"]]}],\"surface\":[{\"type\":\"surface\",\"colorbar\":{\"outlinewidth\":0,\"ticks\":\"\"},\"colorscale\":[[0.0,\"#0d0887\"],[0.1111111111111111,\"#46039f\"],[0.2222222222222222,\"#7201a8\"],[0.3333333333333333,\"#9c179e\"],[0.4444444444444444,\"#bd3786\"],[0.5555555555555556,\"#d8576b\"],[0.6666666666666666,\"#ed7953\"],[0.7777777777777778,\"#fb9f3a\"],[0.8888888888888888,\"#fdca26\"],[1.0,\"#f0f921\"]]}],\"mesh3d\":[{\"type\":\"mesh3d\",\"colorbar\":{\"outlinewidth\":0,\"ticks\":\"\"}}],\"scatter\":[{\"fillpattern\":{\"fillmode\":\"overlay\",\"size\":10,\"solidity\":0.2},\"type\":\"scatter\"}],\"parcoords\":[{\"type\":\"parcoords\",\"line\":{\"colorbar\":{\"outlinewidth\":0,\"ticks\":\"\"}}}],\"scatterpolargl\":[{\"type\":\"scatterpolargl\",\"marker\":{\"colorbar\":{\"outlinewidth\":0,\"ticks\":\"\"}}}],\"bar\":[{\"error_x\":{\"color\":\"#2a3f5f\"},\"error_y\":{\"color\":\"#2a3f5f\"},\"marker\":{\"line\":{\"color\":\"#E5ECF6\",\"width\":0.5},\"pattern\":{\"fillmode\":\"overlay\",\"size\":10,\"solidity\":0.2}},\"type\":\"bar\"}],\"scattergeo\":[{\"type\":\"scattergeo\",\"marker\":{\"colorbar\":{\"outlinewidth\":0,\"ticks\":\"\"}}}],\"scatterpolar\":[{\"type\":\"scatterpolar\",\"marker\":{\"colorbar\":{\"outlinewidth\":0,\"ticks\":\"\"}}}],\"histogram\":[{\"marker\":{\"pattern\":{\"fillmode\":\"overlay\",\"size\":10,\"solidity\":0.2}},\"type\":\"histogram\"}],\"scattergl\":[{\"type\":\"scattergl\",\"marker\":{\"colorbar\":{\"outlinewidth\":0,\"ticks\":\"\"}}}],\"scatter3d\":[{\"type\":\"scatter3d\",\"line\":{\"colorbar\":{\"outlinewidth\":0,\"ticks\":\"\"}},\"marker\":{\"colorbar\":{\"outlinewidth\":0,\"ticks\":\"\"}}}],\"scattermapbox\":[{\"type\":\"scattermapbox\",\"marker\":{\"colorbar\":{\"outlinewidth\":0,\"ticks\":\"\"}}}],\"scatterternary\":[{\"type\":\"scatterternary\",\"marker\":{\"colorbar\":{\"outlinewidth\":0,\"ticks\":\"\"}}}],\"scattercarpet\":[{\"type\":\"scattercarpet\",\"marker\":{\"colorbar\":{\"outlinewidth\":0,\"ticks\":\"\"}}}],\"carpet\":[{\"aaxis\":{\"endlinecolor\":\"#2a3f5f\",\"gridcolor\":\"white\",\"linecolor\":\"white\",\"minorgridcolor\":\"white\",\"startlinecolor\":\"#2a3f5f\"},\"baxis\":{\"endlinecolor\":\"#2a3f5f\",\"gridcolor\":\"white\",\"linecolor\":\"white\",\"minorgridcolor\":\"white\",\"startlinecolor\":\"#2a3f5f\"},\"type\":\"carpet\"}],\"table\":[{\"cells\":{\"fill\":{\"color\":\"#EBF0F8\"},\"line\":{\"color\":\"white\"}},\"header\":{\"fill\":{\"color\":\"#C8D4E3\"},\"line\":{\"color\":\"white\"}},\"type\":\"table\"}],\"barpolar\":[{\"marker\":{\"line\":{\"color\":\"#E5ECF6\",\"width\":0.5},\"pattern\":{\"fillmode\":\"overlay\",\"size\":10,\"solidity\":0.2}},\"type\":\"barpolar\"}],\"pie\":[{\"automargin\":true,\"type\":\"pie\"}]},\"layout\":{\"autotypenumbers\":\"strict\",\"colorway\":[\"#636efa\",\"#EF553B\",\"#00cc96\",\"#ab63fa\",\"#FFA15A\",\"#19d3f3\",\"#FF6692\",\"#B6E880\",\"#FF97FF\",\"#FECB52\"],\"font\":{\"color\":\"#2a3f5f\"},\"hovermode\":\"closest\",\"hoverlabel\":{\"align\":\"left\"},\"paper_bgcolor\":\"white\",\"plot_bgcolor\":\"#E5ECF6\",\"polar\":{\"bgcolor\":\"#E5ECF6\",\"angularaxis\":{\"gridcolor\":\"white\",\"linecolor\":\"white\",\"ticks\":\"\"},\"radialaxis\":{\"gridcolor\":\"white\",\"linecolor\":\"white\",\"ticks\":\"\"}},\"ternary\":{\"bgcolor\":\"#E5ECF6\",\"aaxis\":{\"gridcolor\":\"white\",\"linecolor\":\"white\",\"ticks\":\"\"},\"baxis\":{\"gridcolor\":\"white\",\"linecolor\":\"white\",\"ticks\":\"\"},\"caxis\":{\"gridcolor\":\"white\",\"linecolor\":\"white\",\"ticks\":\"\"}},\"coloraxis\":{\"colorbar\":{\"outlinewidth\":0,\"ticks\":\"\"}},\"colorscale\":{\"sequential\":[[0.0,\"#0d0887\"],[0.1111111111111111,\"#46039f\"],[0.2222222222222222,\"#7201a8\"],[0.3333333333333333,\"#9c179e\"],[0.4444444444444444,\"#bd3786\"],[0.5555555555555556,\"#d8576b\"],[0.6666666666666666,\"#ed7953\"],[0.7777777777777778,\"#fb9f3a\"],[0.8888888888888888,\"#fdca26\"],[1.0,\"#f0f921\"]],\"sequentialminus\":[[0.0,\"#0d0887\"],[0.1111111111111111,\"#46039f\"],[0.2222222222222222,\"#7201a8\"],[0.3333333333333333,\"#9c179e\"],[0.4444444444444444,\"#bd3786\"],[0.5555555555555556,\"#d8576b\"],[0.6666666666666666,\"#ed7953\"],[0.7777777777777778,\"#fb9f3a\"],[0.8888888888888888,\"#fdca26\"],[1.0,\"#f0f921\"]],\"diverging\":[[0,\"#8e0152\"],[0.1,\"#c51b7d\"],[0.2,\"#de77ae\"],[0.3,\"#f1b6da\"],[0.4,\"#fde0ef\"],[0.5,\"#f7f7f7\"],[0.6,\"#e6f5d0\"],[0.7,\"#b8e186\"],[0.8,\"#7fbc41\"],[0.9,\"#4d9221\"],[1,\"#276419\"]]},\"xaxis\":{\"gridcolor\":\"white\",\"linecolor\":\"white\",\"ticks\":\"\",\"title\":{\"standoff\":15},\"zerolinecolor\":\"white\",\"automargin\":true,\"zerolinewidth\":2},\"yaxis\":{\"gridcolor\":\"white\",\"linecolor\":\"white\",\"ticks\":\"\",\"title\":{\"standoff\":15},\"zerolinecolor\":\"white\",\"automargin\":true,\"zerolinewidth\":2},\"scene\":{\"xaxis\":{\"backgroundcolor\":\"#E5ECF6\",\"gridcolor\":\"white\",\"linecolor\":\"white\",\"showbackground\":true,\"ticks\":\"\",\"zerolinecolor\":\"white\",\"gridwidth\":2},\"yaxis\":{\"backgroundcolor\":\"#E5ECF6\",\"gridcolor\":\"white\",\"linecolor\":\"white\",\"showbackground\":true,\"ticks\":\"\",\"zerolinecolor\":\"white\",\"gridwidth\":2},\"zaxis\":{\"backgroundcolor\":\"#E5ECF6\",\"gridcolor\":\"white\",\"linecolor\":\"white\",\"showbackground\":true,\"ticks\":\"\",\"zerolinecolor\":\"white\",\"gridwidth\":2}},\"shapedefaults\":{\"line\":{\"color\":\"#2a3f5f\"}},\"annotationdefaults\":{\"arrowcolor\":\"#2a3f5f\",\"arrowhead\":0,\"arrowwidth\":1},\"geo\":{\"bgcolor\":\"white\",\"landcolor\":\"#E5ECF6\",\"subunitcolor\":\"white\",\"showland\":true,\"showlakes\":true,\"lakecolor\":\"white\"},\"title\":{\"x\":0.05},\"mapbox\":{\"style\":\"light\"}}},\"height\":500,\"width\":700,\"xaxis\":{\"title\":{\"text\":\"Epoch\"}},\"yaxis\":{\"title\":{\"text\":\"Mean Absolute Error\"}}},                        {\"responsive\": true}                    ).then(function(){\n",
              "                            \n",
              "var gd = document.getElementById('f3b30b1f-58c4-46c4-a3cf-42121b80b7cb');\n",
              "var x = new MutationObserver(function (mutations, observer) {{\n",
              "        var display = window.getComputedStyle(gd).display;\n",
              "        if (!display || display === 'none') {{\n",
              "            console.log([gd, 'removed!']);\n",
              "            Plotly.purge(gd);\n",
              "            observer.disconnect();\n",
              "        }}\n",
              "}});\n",
              "\n",
              "// Listen for the removal of the full notebook cells\n",
              "var notebookContainer = gd.closest('#notebook-container');\n",
              "if (notebookContainer) {{\n",
              "    x.observe(notebookContainer, {childList: true});\n",
              "}}\n",
              "\n",
              "// Listen for the clearing of the current output cell\n",
              "var outputEl = gd.closest('.output');\n",
              "if (outputEl) {{\n",
              "    x.observe(outputEl, {childList: true});\n",
              "}}\n",
              "\n",
              "                        })                };                            </script>        </div>\n",
              "</body>\n",
              "</html>"
            ]
          },
          "metadata": {}
        }
      ]
    },
    {
      "cell_type": "code",
      "source": [
        "mse_nn,mae_nn=model.evaluate(test_x,test_y)"
      ],
      "metadata": {
        "colab": {
          "base_uri": "https://localhost:8080/"
        },
        "id": "xE7BV4AcaDNi",
        "outputId": "dd7bcd40-934a-499b-a138-b77e779523c6"
      },
      "execution_count": null,
      "outputs": [
        {
          "output_type": "stream",
          "name": "stdout",
          "text": [
            "4/4 [==============================] - 0s 4ms/step - loss: 10.3713 - mae: 2.3987\n"
          ]
        }
      ]
    },
    {
      "cell_type": "code",
      "source": [
        "print('Mean squared error on test data :',mse_nn)\n",
        "print('Mean absolute error on test data :',mae_nn)"
      ],
      "metadata": {
        "colab": {
          "base_uri": "https://localhost:8080/"
        },
        "id": "o11PwujkaSdC",
        "outputId": "e6f9fbee-6cd0-4527-a32e-58edba787859"
      },
      "execution_count": null,
      "outputs": [
        {
          "output_type": "stream",
          "name": "stdout",
          "text": [
            "Mean squared error on test data : 10.371269226074219\n",
            "Mean absolute error on test data : 2.398691415786743\n"
          ]
        }
      ]
    },
    {
      "cell_type": "code",
      "source": [
        "from sklearn.metrics import r2_score\n",
        "y_dl=model.predict(test_x)\n",
        "r2=r2_score(test_y,y_dl)\n",
        "print('R2 Score :',r2)"
      ],
      "metadata": {
        "colab": {
          "base_uri": "https://localhost:8080/"
        },
        "id": "nvgkGr0faXpB",
        "outputId": "ad1f12f2-401f-4da0-9c14-027f6624d1f5"
      },
      "execution_count": null,
      "outputs": [
        {
          "output_type": "stream",
          "name": "stdout",
          "text": [
            "4/4 [==============================] - 0s 6ms/step\n",
            "R2 Score : 0.87541098462976\n"
          ]
        }
      ]
    },
    {
      "cell_type": "code",
      "source": [
        "from sklearn.linear_model import LinearRegression\n",
        "from sklearn.metrics import mean_squared_error,mean_absolute_error,r2_score"
      ],
      "metadata": {
        "id": "NqC9Fxg9ab0_"
      },
      "execution_count": null,
      "outputs": []
    },
    {
      "cell_type": "code",
      "source": [
        "lr_model=LinearRegression()\n",
        "lr_model.fit(train_x,train_y)\n"
      ],
      "metadata": {
        "colab": {
          "base_uri": "https://localhost:8080/",
          "height": 74
        },
        "id": "OPIYQwUgaiSy",
        "outputId": "2ea2b889-293f-491c-baac-f9a50f235281"
      },
      "execution_count": null,
      "outputs": [
        {
          "output_type": "execute_result",
          "data": {
            "text/plain": [
              "LinearRegression()"
            ],
            "text/html": [
              "<style>#sk-container-id-1 {color: black;background-color: white;}#sk-container-id-1 pre{padding: 0;}#sk-container-id-1 div.sk-toggleable {background-color: white;}#sk-container-id-1 label.sk-toggleable__label {cursor: pointer;display: block;width: 100%;margin-bottom: 0;padding: 0.3em;box-sizing: border-box;text-align: center;}#sk-container-id-1 label.sk-toggleable__label-arrow:before {content: \"▸\";float: left;margin-right: 0.25em;color: #696969;}#sk-container-id-1 label.sk-toggleable__label-arrow:hover:before {color: black;}#sk-container-id-1 div.sk-estimator:hover label.sk-toggleable__label-arrow:before {color: black;}#sk-container-id-1 div.sk-toggleable__content {max-height: 0;max-width: 0;overflow: hidden;text-align: left;background-color: #f0f8ff;}#sk-container-id-1 div.sk-toggleable__content pre {margin: 0.2em;color: black;border-radius: 0.25em;background-color: #f0f8ff;}#sk-container-id-1 input.sk-toggleable__control:checked~div.sk-toggleable__content {max-height: 200px;max-width: 100%;overflow: auto;}#sk-container-id-1 input.sk-toggleable__control:checked~label.sk-toggleable__label-arrow:before {content: \"▾\";}#sk-container-id-1 div.sk-estimator input.sk-toggleable__control:checked~label.sk-toggleable__label {background-color: #d4ebff;}#sk-container-id-1 div.sk-label input.sk-toggleable__control:checked~label.sk-toggleable__label {background-color: #d4ebff;}#sk-container-id-1 input.sk-hidden--visually {border: 0;clip: rect(1px 1px 1px 1px);clip: rect(1px, 1px, 1px, 1px);height: 1px;margin: -1px;overflow: hidden;padding: 0;position: absolute;width: 1px;}#sk-container-id-1 div.sk-estimator {font-family: monospace;background-color: #f0f8ff;border: 1px dotted black;border-radius: 0.25em;box-sizing: border-box;margin-bottom: 0.5em;}#sk-container-id-1 div.sk-estimator:hover {background-color: #d4ebff;}#sk-container-id-1 div.sk-parallel-item::after {content: \"\";width: 100%;border-bottom: 1px solid gray;flex-grow: 1;}#sk-container-id-1 div.sk-label:hover label.sk-toggleable__label {background-color: #d4ebff;}#sk-container-id-1 div.sk-serial::before {content: \"\";position: absolute;border-left: 1px solid gray;box-sizing: border-box;top: 0;bottom: 0;left: 50%;z-index: 0;}#sk-container-id-1 div.sk-serial {display: flex;flex-direction: column;align-items: center;background-color: white;padding-right: 0.2em;padding-left: 0.2em;position: relative;}#sk-container-id-1 div.sk-item {position: relative;z-index: 1;}#sk-container-id-1 div.sk-parallel {display: flex;align-items: stretch;justify-content: center;background-color: white;position: relative;}#sk-container-id-1 div.sk-item::before, #sk-container-id-1 div.sk-parallel-item::before {content: \"\";position: absolute;border-left: 1px solid gray;box-sizing: border-box;top: 0;bottom: 0;left: 50%;z-index: -1;}#sk-container-id-1 div.sk-parallel-item {display: flex;flex-direction: column;z-index: 1;position: relative;background-color: white;}#sk-container-id-1 div.sk-parallel-item:first-child::after {align-self: flex-end;width: 50%;}#sk-container-id-1 div.sk-parallel-item:last-child::after {align-self: flex-start;width: 50%;}#sk-container-id-1 div.sk-parallel-item:only-child::after {width: 0;}#sk-container-id-1 div.sk-dashed-wrapped {border: 1px dashed gray;margin: 0 0.4em 0.5em 0.4em;box-sizing: border-box;padding-bottom: 0.4em;background-color: white;}#sk-container-id-1 div.sk-label label {font-family: monospace;font-weight: bold;display: inline-block;line-height: 1.2em;}#sk-container-id-1 div.sk-label-container {text-align: center;}#sk-container-id-1 div.sk-container {/* jupyter's `normalize.less` sets `[hidden] { display: none; }` but bootstrap.min.css set `[hidden] { display: none !important; }` so we also need the `!important` here to be able to override the default hidden behavior on the sphinx rendered scikit-learn.org. See: https://github.com/scikit-learn/scikit-learn/issues/21755 */display: inline-block !important;position: relative;}#sk-container-id-1 div.sk-text-repr-fallback {display: none;}</style><div id=\"sk-container-id-1\" class=\"sk-top-container\"><div class=\"sk-text-repr-fallback\"><pre>LinearRegression()</pre><b>In a Jupyter environment, please rerun this cell to show the HTML representation or trust the notebook. <br />On GitHub, the HTML representation is unable to render, please try loading this page with nbviewer.org.</b></div><div class=\"sk-container\" hidden><div class=\"sk-item\"><div class=\"sk-estimator sk-toggleable\"><input class=\"sk-toggleable__control sk-hidden--visually\" id=\"sk-estimator-id-1\" type=\"checkbox\" checked><label for=\"sk-estimator-id-1\" class=\"sk-toggleable__label sk-toggleable__label-arrow\">LinearRegression</label><div class=\"sk-toggleable__content\"><pre>LinearRegression()</pre></div></div></div></div></div>"
            ]
          },
          "metadata": {},
          "execution_count": 19
        }
      ]
    },
    {
      "cell_type": "code",
      "source": [
        "y_pred=lr_model.predict(test_x)"
      ],
      "metadata": {
        "id": "bbWypFPJamiP"
      },
      "execution_count": null,
      "outputs": []
    },
    {
      "cell_type": "code",
      "source": [
        "mse_lr=mean_squared_error(test_y,y_pred)\n",
        "mae_lr=mean_absolute_error(test_y,y_pred)\n",
        "r2=r2_score(test_y,y_pred)\n",
        "print('Mean squared error on test data :',mse_lr)\n",
        "print('Mean absolute error on test data :',mae_lr)\n",
        "print('R2 Score :',r2)"
      ],
      "metadata": {
        "colab": {
          "base_uri": "https://localhost:8080/"
        },
        "id": "5KMZp0axarIh",
        "outputId": "34af2ad5-5c77-407b-eed9-2f9a79fc4c04"
      },
      "execution_count": null,
      "outputs": [
        {
          "output_type": "stream",
          "name": "stdout",
          "text": [
            "Mean squared error on test data : 23.19559925642298\n",
            "Mean absolute error on test data : 3.4641858124067175\n",
            "R2 Score : 0.7213535934621552\n"
          ]
        }
      ]
    }
  ]
}